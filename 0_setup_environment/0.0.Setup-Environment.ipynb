{
 "cells": [
  {
   "cell_type": "markdown",
   "id": "c1af41d6",
   "metadata": {},
   "source": [
    "# [Module 0.0] 환경 셋업\n",
    "\n",
    "## 본 워크샵의 모든 노트북은 `conda_python3` 를  선택해야 합니다."
   ]
  },
  {
   "cell_type": "code",
   "execution_count": 1,
   "id": "fcf2e66b-4e82-4cb9-8bcd-bed0cc5554ff",
   "metadata": {},
   "outputs": [],
   "source": [
    "# pip install --upgrade pip"
   ]
  },
  {
   "cell_type": "markdown",
   "id": "01f63727",
   "metadata": {},
   "source": [
    "# 환경 셋업\n",
    "- conda_python3 커널에 torch==1.12.1 등을 설치합니다.\n",
    "- [중요] 이 버전은 훈련시 파이토치 프레임워크 도커 컨테이너와 버전과 동일 합니다. "
   ]
  },
  {
   "cell_type": "code",
   "execution_count": 2,
   "id": "405cc094",
   "metadata": {},
   "outputs": [],
   "source": [
    "# ! pip install torch==1.12.1"
   ]
  },
  {
   "cell_type": "code",
   "execution_count": 3,
   "id": "81847e47",
   "metadata": {},
   "outputs": [],
   "source": [
    "# import torch\n",
    "# print(\"torch version: \", torch.__version__)\n"
   ]
  },
  {
   "cell_type": "markdown",
   "id": "93d6f96e-7192-4e99-ab40-2c797e332950",
   "metadata": {
    "tags": []
   },
   "source": [
    "## SageMaker SDK version 설정 (2.118.0)"
   ]
  },
  {
   "cell_type": "code",
   "execution_count": 4,
   "id": "2a38be6f-db64-47b7-806e-ed38dfc515cb",
   "metadata": {
    "tags": []
   },
   "outputs": [],
   "source": [
    "# !pip install --upgrade sagemaker==2.118.0"
   ]
  },
  {
   "cell_type": "code",
   "execution_count": 5,
   "id": "7afd4402-cb37-43a4-bf92-18abd8eb2022",
   "metadata": {},
   "outputs": [],
   "source": [
    "# import sagemaker\n",
    "# sagemaker.__version__"
   ]
  },
  {
   "cell_type": "markdown",
   "id": "9448f5b8",
   "metadata": {},
   "source": [
    "## 로컬 모드 셋업\n",
    "- 기본 다커 폴더 위치 변경 등을 함."
   ]
  },
  {
   "cell_type": "code",
   "execution_count": 6,
   "id": "bf4cf856",
   "metadata": {},
   "outputs": [
    {
     "name": "stdout",
     "output_type": "stream",
     "text": [
      "nvidia-docker2 already installed. We are good to go!\n",
      "Redirecting to /bin/systemctl stop docker.service\n",
      "Warning: Stopping docker.service, but it can still be activated by:\n",
      "  docker.socket\n",
      "Redirecting to /bin/systemctl start docker.service\n",
      "SageMaker instance route table setup is ok. We are good to go.\n",
      "SageMaker instance routing for Docker is ok. We are good to go!\n"
     ]
    }
   ],
   "source": [
    "! bash local_mode_setup.sh"
   ]
  },
  {
   "cell_type": "code",
   "execution_count": null,
   "id": "ead84e85",
   "metadata": {},
   "outputs": [],
   "source": []
  },
  {
   "cell_type": "code",
   "execution_count": null,
   "id": "15550287-34ff-4e16-bd28-5d002212dab8",
   "metadata": {},
   "outputs": [],
   "source": []
  },
  {
   "cell_type": "code",
   "execution_count": null,
   "id": "43012b86-0d83-477a-8e0a-31021cb1bfd2",
   "metadata": {},
   "outputs": [],
   "source": []
  }
 ],
 "metadata": {
  "kernelspec": {
   "display_name": "conda_python3",
   "language": "python",
   "name": "conda_python3"
  },
  "language_info": {
   "codemirror_mode": {
    "name": "ipython",
    "version": 3
   },
   "file_extension": ".py",
   "mimetype": "text/x-python",
   "name": "python",
   "nbconvert_exporter": "python",
   "pygments_lexer": "ipython3",
   "version": "3.10.8"
  }
 },
 "nbformat": 4,
 "nbformat_minor": 5
}
