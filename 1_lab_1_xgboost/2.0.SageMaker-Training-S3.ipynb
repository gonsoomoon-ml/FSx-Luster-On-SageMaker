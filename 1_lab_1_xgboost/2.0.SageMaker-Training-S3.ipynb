{
 "cells": [
  {
   "cell_type": "markdown",
   "id": "70151e64",
   "metadata": {},
   "source": [
    "# 2.0 Amazon SageMaker Training with S3"
   ]
  },
  {
   "cell_type": "markdown",
   "id": "bb7739ae",
   "metadata": {},
   "source": [
    "## import library"
   ]
  },
  {
   "cell_type": "code",
   "execution_count": 1,
   "id": "5296340a",
   "metadata": {
    "tags": []
   },
   "outputs": [],
   "source": [
    "import boto3\n",
    "import sagemaker"
   ]
  },
  {
   "cell_type": "markdown",
   "id": "3edc2244",
   "metadata": {},
   "source": [
    "### SageMaker session and role"
   ]
  },
  {
   "cell_type": "code",
   "execution_count": 17,
   "id": "c8953681-8728-434f-bbc1-d7febe41c784",
   "metadata": {
    "tags": []
   },
   "outputs": [],
   "source": []
  },
  {
   "cell_type": "code",
   "execution_count": 31,
   "id": "7551894e",
   "metadata": {
    "tags": []
   },
   "outputs": [
    {
     "name": "stderr",
     "output_type": "stream",
     "text": [
      "INFO:botocore.credentials:Found credentials from IAM Role: BaseNotebookInstanceEc2InstanceRole\n",
      "INFO:botocore.credentials:Found credentials from IAM Role: BaseNotebookInstanceEc2InstanceRole\n"
     ]
    },
    {
     "name": "stdout",
     "output_type": "stream",
     "text": [
      "role:  arn:aws:iam::189546603447:role/mask-rcnn-sm-nb-ExecutionRole-RCM1ONA959J3\n"
     ]
    }
   ],
   "source": [
    "# sagemaker_session = sagemaker.session.Session()\n",
    "import boto3\n",
    "\n",
    "boto_session = boto3.Session(region_name='us-east-1')\n",
    "sagemaker_session = sagemaker.session.Session(boto_session)\n",
    "role = sagemaker.get_execution_role()\n",
    "print(\"role: \", role)"
   ]
  },
  {
   "cell_type": "markdown",
   "id": "6deeebb5",
   "metadata": {},
   "source": [
    "### Define hyperparameter"
   ]
  },
  {
   "cell_type": "code",
   "execution_count": 19,
   "id": "837a9316",
   "metadata": {
    "tags": []
   },
   "outputs": [],
   "source": [
    "hyperparameters = {\n",
    "       \"scale_pos_weight\" : \"29\",    \n",
    "        \"max_depth\": \"3\",\n",
    "        \"eta\": \"0.2\",\n",
    "        \"objective\": \"binary:logistic\",\n",
    "        \"num_round\": \"100\",\n",
    "}"
   ]
  },
  {
   "cell_type": "markdown",
   "id": "111d3658",
   "metadata": {},
   "source": [
    "### Define instance type "
   ]
  },
  {
   "cell_type": "code",
   "execution_count": 20,
   "id": "7f383326",
   "metadata": {
    "tags": []
   },
   "outputs": [],
   "source": [
    "instance_count = 1\n",
    "instance_type = \"ml.m5.large\"\n",
    "# instance_type = \"local\"\n",
    "# instance_type = \"local_gpu\"\n",
    "\n",
    "max_run = 1*60*60\n",
    "\n",
    "use_spot_instances = False\n",
    "if use_spot_instances:\n",
    "    max_wait = 1*60*60\n",
    "else:\n",
    "    max_wait = None"
   ]
  },
  {
   "cell_type": "code",
   "execution_count": 21,
   "id": "81c0b774-9be5-4e1c-a30e-f9ee3edaeeb3",
   "metadata": {
    "tags": []
   },
   "outputs": [
    {
     "name": "stderr",
     "output_type": "stream",
     "text": [
      "INFO:botocore.credentials:Found credentials from IAM Role: BaseNotebookInstanceEc2InstanceRole\n"
     ]
    }
   ],
   "source": [
    "if instance_type in ['local', 'local_gpu']:\n",
    "    from sagemaker.local import LocalSession\n",
    "    sagemaker_session = LocalSession()\n",
    "    sagemaker_session.config = {'local': {'local_code': True}}\n",
    "else:\n",
    "    sagemaker_session = sagemaker.session.Session()"
   ]
  },
  {
   "cell_type": "markdown",
   "id": "5e1006e9-cf74-48b7-b5fa-d5c959e516d3",
   "metadata": {},
   "source": [
    "## S3 input locakton"
   ]
  },
  {
   "cell_type": "code",
   "execution_count": 22,
   "id": "06fdeedb-758e-4d1c-871a-4d7abb26acbc",
   "metadata": {
    "tags": []
   },
   "outputs": [],
   "source": [
    "s3_bucket = sagemaker_session.default_bucket()"
   ]
  },
  {
   "cell_type": "code",
   "execution_count": 23,
   "id": "3e08f89d-eb58-44e7-b6a5-10e4a70411e1",
   "metadata": {
    "tags": []
   },
   "outputs": [],
   "source": [
    "train_path=f's3://{s3_bucket}/xgboost/dataset'\n",
    "!aws s3 sync ../data/dataset/ $train_path"
   ]
  },
  {
   "cell_type": "code",
   "execution_count": 24,
   "id": "ba0ac018-a793-4d74-9458-0dff0267d4ec",
   "metadata": {
    "tags": []
   },
   "outputs": [
    {
     "name": "stdout",
     "output_type": "stream",
     "text": [
      "inputs: \n",
      " {'train': 's3://sagemaker-us-east-1-189546603447/xgboost/dataset'}\n"
     ]
    }
   ],
   "source": [
    "inputs = {'train': train_path}\n",
    "print(\"inputs: \\n\", inputs)\n"
   ]
  },
  {
   "cell_type": "markdown",
   "id": "431b6d4e-a23c-478e-9cde-4307326e426e",
   "metadata": {},
   "source": [
    "## S3 output location"
   ]
  },
  {
   "cell_type": "code",
   "execution_count": 25,
   "id": "ea88b53a-2650-4e8e-ac89-ba3028e85af9",
   "metadata": {
    "tags": []
   },
   "outputs": [
    {
     "name": "stdout",
     "output_type": "stream",
     "text": [
      "s3_output_location:  s3://sagemaker-us-east-1-189546603447/xgboost/output\n"
     ]
    }
   ],
   "source": [
    "# s3_bucket = 'cf-mask-rcnn-gsmoon'\n",
    "prefix = \"xgboost/output\"\n",
    "s3_output_location = f\"s3://{s3_bucket}/{prefix}\"\n",
    "print(\"s3_output_location: \", s3_output_location)"
   ]
  },
  {
   "cell_type": "markdown",
   "id": "88efa8f1-4eff-4d0e-ba41-4595f5084099",
   "metadata": {
    "tags": []
   },
   "source": [
    "## Setup VPC Endpoint"
   ]
  },
  {
   "cell_type": "code",
   "execution_count": 26,
   "id": "92a2ff7f-0292-4cf0-8feb-8ebe321673ce",
   "metadata": {
    "tags": []
   },
   "outputs": [
    {
     "name": "stdout",
     "output_type": "stream",
     "text": [
      "security_group_ids:  ['sg-01d2d82fa2227f449']\n",
      "subnets:  ['subnet-f1067697']\n"
     ]
    }
   ],
   "source": [
    "\n",
    "subnet_id = 'subnet-f1067697'\n",
    "security_group_id = 'sg-01d2d82fa2227f449'\n",
    "\n",
    "security_group_ids = list()\n",
    "security_group_ids.append(security_group_id)\n",
    "subnets = list()\n",
    "subnets.append(subnet_id)\n",
    "print(\"security_group_ids: \", security_group_ids)\n",
    "print(\"subnets: \", subnets)\n"
   ]
  },
  {
   "cell_type": "code",
   "execution_count": 27,
   "id": "4dcee8ce-f51e-44da-9eac-84f9d4212281",
   "metadata": {
    "tags": []
   },
   "outputs": [
    {
     "name": "stderr",
     "output_type": "stream",
     "text": [
      "INFO:sagemaker.image_uris:Ignoring unnecessary Python version: py3.\n",
      "INFO:sagemaker.image_uris:Ignoring unnecessary instance type: ml.m5.large.\n"
     ]
    }
   ],
   "source": [
    "from sagemaker.xgboost.estimator import XGBoost\n",
    "\n",
    "estimator = XGBoost(\n",
    "    entry_point=\"xgboost_fsx_luster_script.py\",\n",
    "    source_dir='src',\n",
    "#    code_location=code_location,\n",
    "    hyperparameters=hyperparameters,\n",
    "    role=role,\n",
    "    sagemaker_session=sagemaker_session,\n",
    "    instance_count=instance_count,\n",
    "    instance_type=instance_type,\n",
    "    framework_version=\"1.3-1\",\n",
    "    max_run=max_run,\n",
    "    use_spot_instances=use_spot_instances,  # spot instance 활용\n",
    "    output_path=s3_output_location,    \n",
    "    max_wait=max_wait,\n",
    "    keep_alive_period_in_seconds=1800,        \n",
    "    subnets=subnets,\n",
    "    security_group_ids=security_group_ids,    \n",
    ")"
   ]
  },
  {
   "cell_type": "code",
   "execution_count": 28,
   "id": "ef6da772-3d98-452d-a948-ddce80201abf",
   "metadata": {
    "tags": []
   },
   "outputs": [
    {
     "data": {
      "text/plain": [
       "{'train': 's3://sagemaker-us-east-1-189546603447/xgboost/dataset'}"
      ]
     },
     "execution_count": 28,
     "metadata": {},
     "output_type": "execute_result"
    }
   ],
   "source": [
    "inputs"
   ]
  },
  {
   "cell_type": "code",
   "execution_count": 29,
   "id": "e5127e34",
   "metadata": {
    "tags": []
   },
   "outputs": [
    {
     "name": "stderr",
     "output_type": "stream",
     "text": [
      "INFO:sagemaker:Creating training-job with name: sagemaker-xgboost-2023-04-13-13-58-29-945\n"
     ]
    }
   ],
   "source": [
    "estimator.fit(inputs = inputs,\n",
    "                  wait=False)"
   ]
  },
  {
   "cell_type": "code",
   "execution_count": 30,
   "id": "274ab30b",
   "metadata": {
    "tags": []
   },
   "outputs": [
    {
     "name": "stdout",
     "output_type": "stream",
     "text": [
      "2023-04-13 13:58:31 Starting - Starting the training job...\n",
      "2023-04-13 13:58:50 Downloading - Downloading input data\n",
      "2023-04-13 13:58:50 Training - Training image download completed. Training in progress.\u001b[34m[2023-04-13 13:58:52.627 ip-172-31-4-95.ec2.internal:7 INFO utils.py:28] RULE_JOB_STOP_SIGNAL_FILENAME: None\u001b[0m\n",
      "\u001b[34m[2023-04-13 13:58:52.665 ip-172-31-4-95.ec2.internal:7 INFO profiler_config_parser.py:111] User has disabled profiler.\u001b[0m\n",
      "\u001b[34m[2023-04-13:13:58:52:INFO] Imported framework sagemaker_xgboost_container.training\u001b[0m\n",
      "\u001b[34m[2023-04-13:13:58:52:INFO] No GPUs detected (normal if no gpus installed)\u001b[0m\n",
      "\u001b[34m[2023-04-13:13:58:52:INFO] Invoking user training script.\u001b[0m\n",
      "\u001b[34m[2023-04-13:13:58:52:INFO] Module xgboost_fsx_luster_script does not provide a setup.py. \u001b[0m\n",
      "\u001b[34mGenerating setup.py\u001b[0m\n",
      "\u001b[34m[2023-04-13:13:58:52:INFO] Generating setup.cfg\u001b[0m\n",
      "\u001b[34m[2023-04-13:13:58:52:INFO] Generating MANIFEST.in\u001b[0m\n",
      "\u001b[34m[2023-04-13:13:58:52:INFO] Installing module with the following command:\u001b[0m\n",
      "\u001b[34m/miniconda3/bin/python3 -m pip install . \u001b[0m\n",
      "\u001b[34mProcessing /opt/ml/code\n",
      "  Preparing metadata (setup.py): started\u001b[0m\n",
      "\u001b[34m  Preparing metadata (setup.py): finished with status 'done'\u001b[0m\n",
      "\u001b[34mBuilding wheels for collected packages: xgboost-fsx-luster-script\n",
      "  Building wheel for xgboost-fsx-luster-script (setup.py): started\n",
      "  Building wheel for xgboost-fsx-luster-script (setup.py): finished with status 'done'\n",
      "  Created wheel for xgboost-fsx-luster-script: filename=xgboost_fsx_luster_script-1.0.0-py2.py3-none-any.whl size=14346 sha256=a7a32f5e6291550e0f0cfa568db71d5c772d1bea13ad4ac370ccc5584b216342\n",
      "  Stored in directory: /home/model-server/tmp/pip-ephem-wheel-cache-pjnx7mfw/wheels/3e/0f/51/2f1df833dd0412c1bc2f5ee56baac195b5be563353d111dca6\u001b[0m\n",
      "\u001b[34mSuccessfully built xgboost-fsx-luster-script\u001b[0m\n",
      "\u001b[34mInstalling collected packages: xgboost-fsx-luster-script\u001b[0m\n",
      "\u001b[34mSuccessfully installed xgboost-fsx-luster-script-1.0.0\u001b[0m\n",
      "\u001b[34mWARNING: Running pip as the 'root' user can result in broken permissions and conflicting behaviour with the system package manager. It is recommended to use a virtual environment instead: https://pip.pypa.io/warnings/venv\u001b[0m\n",
      "\u001b[34m[2023-04-13:13:59:14:INFO] No GPUs detected (normal if no gpus installed)\u001b[0m\n",
      "\u001b[34m[2023-04-13:13:59:14:INFO] Invoking user script\u001b[0m\n",
      "\u001b[34mTraining Env:\u001b[0m\n",
      "\u001b[34m{\n",
      "    \"additional_framework_parameters\": {},\n",
      "    \"channel_input_dirs\": {\n",
      "        \"train\": \"/opt/ml/input/data/train\"\n",
      "    },\n",
      "    \"current_host\": \"algo-1\",\n",
      "    \"framework_module\": \"sagemaker_xgboost_container.training:main\",\n",
      "    \"hosts\": [\n",
      "        \"algo-1\"\n",
      "    ],\n",
      "    \"hyperparameters\": {\n",
      "        \"eta\": \"0.2\",\n",
      "        \"max_depth\": \"3\",\n",
      "        \"num_round\": \"100\",\n",
      "        \"objective\": \"binary:logistic\",\n",
      "        \"scale_pos_weight\": \"29\"\n",
      "    },\n",
      "    \"input_config_dir\": \"/opt/ml/input/config\",\n",
      "    \"input_data_config\": {\n",
      "        \"train\": {\n",
      "            \"TrainingInputMode\": \"File\",\n",
      "            \"S3DistributionType\": \"FullyReplicated\",\n",
      "            \"RecordWrapperType\": \"None\"\n",
      "        }\n",
      "    },\n",
      "    \"input_dir\": \"/opt/ml/input\",\n",
      "    \"is_master\": true,\n",
      "    \"job_name\": \"sagemaker-xgboost-2023-04-13-13-58-29-945\",\n",
      "    \"log_level\": 20,\n",
      "    \"master_hostname\": \"algo-1\",\n",
      "    \"model_dir\": \"/opt/ml/model\",\n",
      "    \"module_dir\": \"s3://sagemaker-us-east-1-189546603447/sagemaker-xgboost-2023-04-13-13-58-29-945/source/sourcedir.tar.gz\",\n",
      "    \"module_name\": \"xgboost_fsx_luster_script\",\n",
      "    \"network_interface_name\": \"eth0\",\n",
      "    \"num_cpus\": 2,\n",
      "    \"num_gpus\": 0,\n",
      "    \"output_data_dir\": \"/opt/ml/output/data\",\n",
      "    \"output_dir\": \"/opt/ml/output\",\n",
      "    \"output_intermediate_dir\": \"/opt/ml/output/intermediate\",\n",
      "    \"resource_config\": {\n",
      "        \"current_host\": \"algo-1\",\n",
      "        \"current_instance_type\": \"ml.m5.large\",\n",
      "        \"current_group_name\": \"homogeneousCluster\",\n",
      "        \"hosts\": [\n",
      "            \"algo-1\"\n",
      "        ],\n",
      "        \"instance_groups\": [\n",
      "            {\n",
      "                \"instance_group_name\": \"homogeneousCluster\",\n",
      "                \"instance_type\": \"ml.m5.large\",\n",
      "                \"hosts\": [\n",
      "                    \"algo-1\"\n",
      "                ]\n",
      "            }\n",
      "        ],\n",
      "        \"network_interface_name\": \"eth0\"\n",
      "    },\n",
      "    \"user_entry_point\": \"xgboost_fsx_luster_script.py\"\u001b[0m\n",
      "\u001b[34m}\u001b[0m\n",
      "\u001b[34mEnvironment variables:\u001b[0m\n",
      "\u001b[34mSM_HOSTS=[\"algo-1\"]\u001b[0m\n",
      "\u001b[34mSM_NETWORK_INTERFACE_NAME=eth0\u001b[0m\n",
      "\u001b[34mSM_HPS={\"eta\":\"0.2\",\"max_depth\":\"3\",\"num_round\":\"100\",\"objective\":\"binary:logistic\",\"scale_pos_weight\":\"29\"}\u001b[0m\n",
      "\u001b[34mSM_USER_ENTRY_POINT=xgboost_fsx_luster_script.py\u001b[0m\n",
      "\u001b[34mSM_FRAMEWORK_PARAMS={}\u001b[0m\n",
      "\u001b[34mSM_RESOURCE_CONFIG={\"current_group_name\":\"homogeneousCluster\",\"current_host\":\"algo-1\",\"current_instance_type\":\"ml.m5.large\",\"hosts\":[\"algo-1\"],\"instance_groups\":[{\"hosts\":[\"algo-1\"],\"instance_group_name\":\"homogeneousCluster\",\"instance_type\":\"ml.m5.large\"}],\"network_interface_name\":\"eth0\"}\u001b[0m\n",
      "\u001b[34mSM_INPUT_DATA_CONFIG={\"train\":{\"RecordWrapperType\":\"None\",\"S3DistributionType\":\"FullyReplicated\",\"TrainingInputMode\":\"File\"}}\u001b[0m\n",
      "\u001b[34mSM_OUTPUT_DATA_DIR=/opt/ml/output/data\u001b[0m\n",
      "\u001b[34mSM_CHANNELS=[\"train\"]\u001b[0m\n",
      "\u001b[34mSM_CURRENT_HOST=algo-1\u001b[0m\n",
      "\u001b[34mSM_MODULE_NAME=xgboost_fsx_luster_script\u001b[0m\n",
      "\u001b[34mSM_LOG_LEVEL=20\u001b[0m\n",
      "\u001b[34mSM_FRAMEWORK_MODULE=sagemaker_xgboost_container.training:main\u001b[0m\n",
      "\u001b[34mSM_INPUT_DIR=/opt/ml/input\u001b[0m\n",
      "\u001b[34mSM_INPUT_CONFIG_DIR=/opt/ml/input/config\u001b[0m\n",
      "\u001b[34mSM_OUTPUT_DIR=/opt/ml/output\u001b[0m\n",
      "\u001b[34mSM_NUM_CPUS=2\u001b[0m\n",
      "\u001b[34mSM_NUM_GPUS=0\u001b[0m\n",
      "\u001b[34mSM_MODEL_DIR=/opt/ml/model\u001b[0m\n",
      "\u001b[34mSM_MODULE_DIR=s3://sagemaker-us-east-1-189546603447/sagemaker-xgboost-2023-04-13-13-58-29-945/source/sourcedir.tar.gz\u001b[0m\n",
      "\u001b[34mSM_TRAINING_ENV={\"additional_framework_parameters\":{},\"channel_input_dirs\":{\"train\":\"/opt/ml/input/data/train\"},\"current_host\":\"algo-1\",\"framework_module\":\"sagemaker_xgboost_container.training:main\",\"hosts\":[\"algo-1\"],\"hyperparameters\":{\"eta\":\"0.2\",\"max_depth\":\"3\",\"num_round\":\"100\",\"objective\":\"binary:logistic\",\"scale_pos_weight\":\"29\"},\"input_config_dir\":\"/opt/ml/input/config\",\"input_data_config\":{\"train\":{\"RecordWrapperType\":\"None\",\"S3DistributionType\":\"FullyReplicated\",\"TrainingInputMode\":\"File\"}},\"input_dir\":\"/opt/ml/input\",\"is_master\":true,\"job_name\":\"sagemaker-xgboost-2023-04-13-13-58-29-945\",\"log_level\":20,\"master_hostname\":\"algo-1\",\"model_dir\":\"/opt/ml/model\",\"module_dir\":\"s3://sagemaker-us-east-1-189546603447/sagemaker-xgboost-2023-04-13-13-58-29-945/source/sourcedir.tar.gz\",\"module_name\":\"xgboost_fsx_luster_script\",\"network_interface_name\":\"eth0\",\"num_cpus\":2,\"num_gpus\":0,\"output_data_dir\":\"/opt/ml/output/data\",\"output_dir\":\"/opt/ml/output\",\"output_intermediate_dir\":\"/opt/ml/output/intermediate\",\"resource_config\":{\"current_group_name\":\"homogeneousCluster\",\"current_host\":\"algo-1\",\"current_instance_type\":\"ml.m5.large\",\"hosts\":[\"algo-1\"],\"instance_groups\":[{\"hosts\":[\"algo-1\"],\"instance_group_name\":\"homogeneousCluster\",\"instance_type\":\"ml.m5.large\"}],\"network_interface_name\":\"eth0\"},\"user_entry_point\":\"xgboost_fsx_luster_script.py\"}\u001b[0m\n",
      "\u001b[34mSM_USER_ARGS=[\"--eta\",\"0.2\",\"--max_depth\",\"3\",\"--num_round\",\"100\",\"--objective\",\"binary:logistic\",\"--scale_pos_weight\",\"29\"]\u001b[0m\n",
      "\u001b[34mSM_OUTPUT_INTERMEDIATE_DIR=/opt/ml/output/intermediate\u001b[0m\n",
      "\u001b[34mSM_CHANNEL_TRAIN=/opt/ml/input/data/train\u001b[0m\n",
      "\u001b[34mSM_HP_ETA=0.2\u001b[0m\n",
      "\u001b[34mSM_HP_MAX_DEPTH=3\u001b[0m\n",
      "\u001b[34mSM_HP_NUM_ROUND=100\u001b[0m\n",
      "\u001b[34mSM_HP_OBJECTIVE=binary:logistic\u001b[0m\n",
      "\u001b[34mSM_HP_SCALE_POS_WEIGHT=29\u001b[0m\n",
      "\u001b[34mPYTHONPATH=/miniconda3/bin:/:/miniconda3/lib/python/site-packages/xgboost/dmlc-core/tracker:/miniconda3/lib/python37.zip:/miniconda3/lib/python3.7:/miniconda3/lib/python3.7/lib-dynload:/miniconda3/lib/python3.7/site-packages\u001b[0m\n",
      "\u001b[34mInvoking script with the following command:\u001b[0m\n",
      "\u001b[34m/miniconda3/bin/python3 -m xgboost_fsx_luster_script --eta 0.2 --max_depth 3 --num_round 100 --objective binary:logistic --scale_pos_weight 29\u001b[0m\n",
      "\u001b[34mtrain data path: \n",
      " /opt/ml/input/data/train/train.csv\u001b[0m\n",
      "\n",
      "2023-04-13 13:59:34 Uploading - Uploading generated training model\n",
      "2023-04-13 13:59:34 Completed - Resource retained for reuse\n",
      "\u001b[34mcv_results:      train-auc-mean  train-auc-std  test-auc-mean  test-auc-std\u001b[0m\n",
      "\u001b[34m0         0.819224       0.005816       0.769926      0.047341\u001b[0m\n",
      "\u001b[34m1         0.842821       0.012217       0.806518      0.021315\u001b[0m\n",
      "\u001b[34m2         0.854213       0.005705       0.806512      0.021542\u001b[0m\n",
      "\u001b[34m3         0.861384       0.008274       0.812600      0.030358\u001b[0m\n",
      "\u001b[34m4         0.873625       0.009501       0.814151      0.032305\u001b[0m\n",
      "\u001b[34m5         0.881067       0.009787       0.813072      0.027425\u001b[0m\n",
      "\u001b[34m6         0.886745       0.009047       0.810738      0.025871\u001b[0m\n",
      "\u001b[34m7         0.895144       0.009728       0.816828      0.023247\u001b[0m\n",
      "\u001b[34m8         0.898417       0.008864       0.817527      0.025424\u001b[0m\n",
      "\u001b[34m9         0.903438       0.010093       0.818247      0.024297\u001b[0m\n",
      "\u001b[34m10        0.909567       0.013376       0.818719      0.021123\u001b[0m\n",
      "\u001b[34m11        0.913054       0.013701       0.817377      0.019645\u001b[0m\n",
      "\u001b[34m12        0.918236       0.012743       0.820624      0.020702\u001b[0m\n",
      "\u001b[34m13        0.921825       0.012667       0.820398      0.020053\u001b[0m\n",
      "\u001b[34m14        0.926449       0.009542       0.818657      0.017779\u001b[0m\n",
      "\u001b[34m15        0.930879       0.009050       0.821708      0.018292\u001b[0m\n",
      "\u001b[34m16        0.935445       0.010258       0.821715      0.020194\u001b[0m\n",
      "\u001b[34m17        0.940519       0.006538       0.821841      0.020128\u001b[0m\n",
      "\u001b[34m[0]#011train-auc:0.9405190000000001\u001b[0m\n",
      "\u001b[34m[1]#011validation-auc:0.8218406\u001b[0m\n",
      "\u001b[34m[13:59:19] WARNING: ../src/learner.cc:1061: Starting in XGBoost 1.3.0, the default evaluation metric used with the objective 'binary:logistic' was changed from 'error' to 'logloss'. Explicitly set eval_metric if you'd like to restore the old behavior.\u001b[0m\n",
      "Training seconds: 57\n",
      "Billable seconds: 57\n"
     ]
    }
   ],
   "source": [
    "estimator.logs()"
   ]
  },
  {
   "cell_type": "code",
   "execution_count": null,
   "id": "33b5a5ff-2381-439b-ba72-32722e0cb22e",
   "metadata": {},
   "outputs": [],
   "source": []
  }
 ],
 "metadata": {
  "kernelspec": {
   "display_name": "conda_python3",
   "language": "python",
   "name": "conda_python3"
  },
  "language_info": {
   "codemirror_mode": {
    "name": "ipython",
    "version": 3
   },
   "file_extension": ".py",
   "mimetype": "text/x-python",
   "name": "python",
   "nbconvert_exporter": "python",
   "pygments_lexer": "ipython3",
   "version": "3.10.8"
  }
 },
 "nbformat": 4,
 "nbformat_minor": 5
}
