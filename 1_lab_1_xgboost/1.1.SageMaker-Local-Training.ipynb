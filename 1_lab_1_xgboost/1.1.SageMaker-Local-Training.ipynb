{
 "cells": [
  {
   "attachments": {},
   "cell_type": "markdown",
   "id": "70151e64",
   "metadata": {},
   "source": [
    "# 1.1 Amazon SageMaker 기본 Training 실습"
   ]
  },
  {
   "attachments": {},
   "cell_type": "markdown",
   "id": "b2249bdb",
   "metadata": {
    "tags": []
   },
   "source": [
    "## 학습 작업의 실행 노트북 개요\n",
    "이 노트북은 주요하게 아래의 작업을 수행 합니다.\n",
    "\n",
    "- 로컬 머신에서 로컬 모드 및 클라우드 모드로 모델 훈련\n",
    "    - 환결 설정은 아래 링크를 참조 하세요.\n",
    "        - [로컬 머신에서 Visual Studio Code 를 사용하여 SageMaker 훈련 코드 작성 하기](https://github.com/gonsoomoon-ml/Self-Study-On-SageMaker/blob/main/Environment/README-Local-VS-Code.md)\n",
    "- SageMaker Notebook 에서 로컬 모드 및 클라우드 모드로 모델 훈련\n",
    "\n",
    "\n",
    "이 노트북은 SageMaker에서 Training Job을 통해서 모델 학습합니다.상세한 사항은 개발자 가이드를 참조 하세요. -->  [모델 학습](https://sagemaker.readthedocs.io/en/stable/overview.html#prepare-a-training-script)\n",
    "\n",
    "\n"
   ]
  },
  {
   "cell_type": "markdown",
   "id": "bb7739ae",
   "metadata": {},
   "source": [
    "### 작업 실행 시 필요 라이브러리 import"
   ]
  },
  {
   "cell_type": "code",
   "execution_count": 10,
   "id": "5296340a",
   "metadata": {
    "tags": []
   },
   "outputs": [],
   "source": [
    "import boto3\n",
    "import sagemaker"
   ]
  },
  {
   "attachments": {},
   "cell_type": "markdown",
   "id": "1ba716a4",
   "metadata": {},
   "source": [
    "### Bucket 정의"
   ]
  },
  {
   "cell_type": "code",
   "execution_count": 21,
   "id": "d8f7acc9",
   "metadata": {},
   "outputs": [
    {
     "name": "stdout",
     "output_type": "stream",
     "text": [
      "bucket:  sagemaker-us-east-1-057716757052\n"
     ]
    }
   ],
   "source": [
    "use_default_bucket = True\n",
    "\n",
    "if use_default_bucket:\n",
    "    bucket = sagemaker.session.Session().default_bucket()\n",
    "else:\n",
    "    bucket = '<Type your bucket name here>'\n",
    "    \n",
    "print(\"bucket: \", bucket)    "
   ]
  },
  {
   "attachments": {},
   "cell_type": "markdown",
   "id": "ee89a326",
   "metadata": {},
   "source": [
    "###  훈련 잡에 사용할 SageMaker Role 정의 \n",
    "- 로컬 머신에서 사용할 경우에는 아래의 주석을 해제하시고, SageMaker Execution Role ARN 을 넣어 주세요."
   ]
  },
  {
   "cell_type": "code",
   "execution_count": 22,
   "id": "36737393",
   "metadata": {},
   "outputs": [],
   "source": [
    "# use_local_machine = False\n",
    "use_local_machine = True\n",
    "\n",
    "if use_local_machine:\n",
    "    # role = '<Type Role ARN here>'\n",
    "    role = 'arn:aws:iam::057716757052:role/dt2gsmoon'            \n",
    "    pass    \n",
    "else:\n",
    "    role = sagemaker.get_execution_role()    \n"
   ]
  },
  {
   "attachments": {},
   "cell_type": "markdown",
   "id": "3edc2244",
   "metadata": {},
   "source": [
    "### 로컬 모드 혹은 클라우드 모드에 따른 SageMaker 세션 정의"
   ]
  },
  {
   "cell_type": "code",
   "execution_count": 23,
   "id": "7551894e",
   "metadata": {
    "tags": []
   },
   "outputs": [],
   "source": [
    "use_local_mode = False\n",
    "# use_local_mode = True\n",
    "\n",
    "if use_local_mode:\n",
    "    instance_type = \"local\"\n",
    "    # instance_type = \"local_gpu\"\n",
    "    from sagemaker.local import LocalSession\n",
    "    sagemaker_session = LocalSession()\n",
    "    sagemaker_session.config = {'local': {'local_code': True}}\n",
    "else:\n",
    "    sagemaker_session = sagemaker.session.Session()\n",
    "    instance_type = \"ml.m5.large\"\n",
    "    \n",
    "\n"
   ]
  },
  {
   "cell_type": "markdown",
   "id": "6deeebb5",
   "metadata": {},
   "source": [
    "### 하이퍼파라미터 정의"
   ]
  },
  {
   "cell_type": "code",
   "execution_count": 24,
   "id": "837a9316",
   "metadata": {
    "tags": []
   },
   "outputs": [],
   "source": [
    "hyperparameters = {\n",
    "       \"scale_pos_weight\" : \"29\",    \n",
    "        \"max_depth\": \"3\",\n",
    "        \"eta\": \"0.2\",\n",
    "        \"objective\": \"binary:logistic\",\n",
    "        \"num_round\": \"100\",\n",
    "}"
   ]
  },
  {
   "attachments": {},
   "cell_type": "markdown",
   "id": "1a78bf16",
   "metadata": {},
   "source": [
    "### 학습 데이터셋 정의"
   ]
  },
  {
   "cell_type": "code",
   "execution_count": 25,
   "id": "8488a7c5-207a-47fa-a96d-7f2c0085981e",
   "metadata": {
    "tags": []
   },
   "outputs": [
    {
     "name": "stdout",
     "output_type": "stream",
     "text": [
      "input data path:  s3://sagemaker-us-east-1-057716757052/xgboost/dataset\n"
     ]
    }
   ],
   "source": [
    "if use_local_mode:\n",
    "    local_data_path = \"../data/dataset/\"\n",
    "    from pathlib import Path\n",
    "    file_path = f'file://{Path.cwd()}'\n",
    "    inputs = file_path.split('1_lab_1_xgboost')[0] + 'data/dataset/'\n",
    "else:\n",
    "    data_path=f's3://{bucket}/xgboost/dataset'\n",
    "    !aws s3 sync ../data/dataset/ $data_path    \n",
    "    inputs = data_path\n",
    "\n",
    "print(\"input data path: \", inputs)                "
   ]
  },
  {
   "cell_type": "markdown",
   "id": "111d3658",
   "metadata": {},
   "source": [
    "### 학습 실행 작업 정의"
   ]
  },
  {
   "cell_type": "code",
   "execution_count": 26,
   "id": "4dcee8ce-f51e-44da-9eac-84f9d4212281",
   "metadata": {
    "tags": []
   },
   "outputs": [],
   "source": [
    "from sagemaker.xgboost.estimator import XGBoost\n",
    "\n",
    "estimator = XGBoost(\n",
    "    entry_point=\"xgboost_starter_script.py\",\n",
    "    source_dir='src',\n",
    "    hyperparameters=hyperparameters,\n",
    "    role=role,\n",
    "    sagemaker_session=sagemaker_session,\n",
    "    instance_count= 1,\n",
    "    instance_type=instance_type,\n",
    "    framework_version=\"1.3-1\",\n",
    ")"
   ]
  },
  {
   "cell_type": "markdown",
   "id": "61ba2857",
   "metadata": {
    "tags": []
   },
   "source": [
    "### 학습 실행"
   ]
  },
  {
   "cell_type": "code",
   "execution_count": 27,
   "id": "e5127e34",
   "metadata": {
    "tags": []
   },
   "outputs": [],
   "source": [
    "estimator.fit(inputs = {'inputdata': inputs},\n",
    "                  wait=False)"
   ]
  },
  {
   "cell_type": "code",
   "execution_count": 28,
   "id": "274ab30b",
   "metadata": {
    "tags": []
   },
   "outputs": [
    {
     "name": "stdout",
     "output_type": "stream",
     "text": [
      "2023-05-07 13:55:28 Starting - Starting the training job...\n",
      "2023-05-07 13:55:52 Starting - Preparing the instances for trainingProfilerReport-1683467728: InProgress\n",
      "."
     ]
    }
   ],
   "source": [
    "%%time \n",
    "\n",
    "estimator.logs()"
   ]
  },
  {
   "cell_type": "markdown",
   "id": "715cfadc-2c84-45eb-819d-445bedd16981",
   "metadata": {},
   "source": [
    "### 데이터 세트 설명\n",
    "- 데이터 세트는 블로그 [Architect and build the full machine learning lifecycle with AWS: An end-to-end Amazon SageMaker demo](https://aws.amazon.com/blogs/machine-learning/architect-and-build-the-full-machine-learning-lifecycle-with-amazon-sagemaker/) 에서 사용한 데이터를 사용합니다. 블로그에서는 데이터 세트에 대해서 이렇게 설명 합니다.\n",
    "- \"자동차 보험 청구 사기를 탐지를 위해서 블로그 저자가 데이터를 합성해서 만든 고객과 클레임의 데이터 세트를 사용합니다.\""
   ]
  },
  {
   "cell_type": "code",
   "execution_count": null,
   "id": "edf4a217-951c-4592-8186-a54867b59134",
   "metadata": {
    "tags": []
   },
   "outputs": [],
   "source": [
    "import pandas as pd"
   ]
  },
  {
   "cell_type": "code",
   "execution_count": null,
   "id": "5afd16b1-4258-4bc9-8287-8d11d315b1c4",
   "metadata": {
    "tags": []
   },
   "outputs": [],
   "source": [
    "train_prep_df = pd.read_csv('../data/dataset/train.csv')\n",
    "train_prep_df.groupby('fraud').sample(n=5)"
   ]
  },
  {
   "cell_type": "code",
   "execution_count": null,
   "id": "59102dfc-1b29-42d6-a6ea-33e48da88288",
   "metadata": {
    "tags": []
   },
   "outputs": [],
   "source": [
    "train_prep_df.groupby('fraud').size()"
   ]
  },
  {
   "cell_type": "markdown",
   "id": "adc21444-b4f8-44d6-9e79-35b41b7e8fe4",
   "metadata": {},
   "source": [
    "#### 데이터 컬럼 설명\n",
    "- fraud: 보험 청구의 사기 여부 입니다. 1 이면 사기, 0 이면 정상 청구 입니다.\n",
    "- vehicle_claim: 자동차에 대한 보험 청구액. 값으로서, $1000, $17,638 등이 있습니다.\n",
    "- total_claim_amount: 전체 보험 청구액 입니다. $21,400, $10,000 등이 있습니다.    \n",
    "- customer_age: 고객의 나이를 의미 합니다.\n",
    "- months_as_customer: 고객으로서의 가입 기간을 의미합니다. 단위는 월로서 11, 30, 31 등의 값이 존재 합니다.\n",
    "- num_claims_past_year: 작년의 보험 청구 수를 의미 합니다. 0, 1, 2, 3, 4, 5, 6 의 값이 존재 합니다.\n",
    "- num_insurers_past_5_years: 과거 5년 동안의 보험 가입 회사 수를 의미 합니다. 1, 2, 3, 4, 5 의 값이 존재 합니다.\n",
    "- policy_deductable: 보험의 최소 자기 부담금 입니다. $750, $800 등이 있습니다.    \n",
    "- policy_annual_premium: 보험의 특약 가입에 대한 금액 입니다. $2000, $3000 등이 있습니다.\n",
    "- customer_zip: 고객의 집 주소 우편 번호를 의미합니다.\n",
    "- auto_year: 자동차의 년식을 의미 합니다. 2020, 2019 등이 있습니다.\n",
    "- num_vehicles_involved: 몇 대의 자동차가 사고에 연관 되었는지 입니다. 1, 2, 3, 4, 5, 6 의 값이 있습니다.\n",
    "- num_injuries: 몇 명이 상해를 입었는지를 기술합니다. 0, 1, 2, 3, 4, 의 값이 있습니다.\n",
    "- num_witnesses: 몇 명의 목격자가 있었는지를 기술합니다. 0, 1, 2, 3, 4, 5 의 값이 있습니다.\n",
    "- injury_claim: 상해에 대한 보험 청구액. \\$5,500, \\$70,700, \\$100,700 등이 있습니다.    \n",
    "- incident_month: 사고가 발생한 월을 의미합니다. 1~12 값이 존재 합니다.\n",
    "- incident_day: 사고가 발생한 일자를 의미합니다. 1~31 값이 존재 합니다.\n",
    "- incident_dow: 사고가 발생한 요일을 의미합니다. 0~6 값이 존재 합니다.\n",
    "- incident_hour: 사고가 발생한 시간을 의미합니다. 0~23 값이 존재 합니다.\n",
    "- policy_state: 보험 계약을 한 미국 주(State)를 의미 합니다. CA, WA, AZ, OR, NV, ID 가 존재 합니다.    \n",
    "- policy_liability: 보험 청구의 한도를 의미 합니다. 예를 들어서 25/50 은  사람 당 상해 한도 $25,000, 사고 당 상해 한도가 $50,000 을  의미합니다. 25/50, 15/30, 30/60, 100/200 의 값이 존재 합니다. \n",
    "- customer_gender: 고객의 성별을 의미 합니다. Male, Female, Unkown, Other가 존재 합니다.\n",
    "- customer_education: 고객의 최종 학력을 의미합니다. Bachelor, High School, Advanced Degree, Associate, Below High School 이 존재 합니다.\n",
    "- driver_relationship: 보험 계약자와 운전자와의 관계 입니다. Self, Spouse, Child, Other 값이 존재 합니다.\n",
    "- incident_type: 사고의 종류를 기술합니다. Collision, Break-in, Theft 값이 존재 합니다.\n",
    "- collision_type: 충돌 타입을 기술합니다. Front, Rear, Side, missing 값이 존재 합니다.\n",
    "- incident_severity: 사고의 손실 정도 입니다. Minor, Major, Totaled 값이 존재 합니다.\n",
    "- authorities_contacted: 어떤 관련 기관에 연락을 했는지 입니다. Police, Ambuylance, Fire, None 값이 존재 합니다.\n",
    "- police_report_available: 경찰 보고서가 존재하는지를 기술합니다. Yes, No 의 값이 있습니다."
   ]
  },
  {
   "cell_type": "code",
   "execution_count": null,
   "id": "a7b87ec7-8639-4b10-8cb5-e736934b00bc",
   "metadata": {},
   "outputs": [],
   "source": []
  }
 ],
 "metadata": {
  "kernelspec": {
   "display_name": "Python 3",
   "language": "python",
   "name": "python3"
  },
  "language_info": {
   "codemirror_mode": {
    "name": "ipython",
    "version": 3
   },
   "file_extension": ".py",
   "mimetype": "text/x-python",
   "name": "python",
   "nbconvert_exporter": "python",
   "pygments_lexer": "ipython3",
   "version": "3.10.10"
  }
 },
 "nbformat": 4,
 "nbformat_minor": 5
}
