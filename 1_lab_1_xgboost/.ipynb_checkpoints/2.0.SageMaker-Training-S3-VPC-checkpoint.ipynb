{
 "cells": [
  {
   "cell_type": "markdown",
   "id": "70151e64",
   "metadata": {},
   "source": [
    "# 2.0 Amazon SageMaker Training in VPC with S3 "
   ]
  },
  {
   "cell_type": "markdown",
   "id": "bb7739ae",
   "metadata": {},
   "source": [
    "## import library"
   ]
  },
  {
   "cell_type": "code",
   "execution_count": 2,
   "id": "5296340a",
   "metadata": {
    "tags": []
   },
   "outputs": [],
   "source": [
    "import boto3\n",
    "import sagemaker"
   ]
  },
  {
   "cell_type": "markdown",
   "id": "e439cf41",
   "metadata": {},
   "source": [
    "### Bucket 정의"
   ]
  },
  {
   "cell_type": "code",
   "execution_count": 3,
   "id": "6bc97210",
   "metadata": {},
   "outputs": [
    {
     "name": "stdout",
     "output_type": "stream",
     "text": [
      "bucket:  sagemaker-us-east-1-057716757052\n"
     ]
    }
   ],
   "source": [
    "use_default_bucket = True\n",
    "\n",
    "if use_default_bucket:\n",
    "    bucket = sagemaker.session.Session().default_bucket()\n",
    "else:\n",
    "    bucket = '<Type your bucket name here>'\n",
    "    \n",
    "print(\"bucket: \", bucket)        "
   ]
  },
  {
   "cell_type": "markdown",
   "id": "65bd8d39",
   "metadata": {},
   "source": [
    "###  훈련 잡에 사용할 SageMaker Role 정의 \n",
    "- 로컬 머신에서 사용할 경우에는 아래의 주석을 해제하시고, SageMaker Execution Role ARN 을 넣어 주세요."
   ]
  },
  {
   "cell_type": "code",
   "execution_count": 4,
   "id": "da645653",
   "metadata": {},
   "outputs": [],
   "source": [
    "# use_local_machine = False\n",
    "use_local_machine = True\n",
    "\n",
    "if use_local_machine:\n",
    "    # role = '<Type Role ARN here>'\n",
    "    # role = 'arn:aws:iam::057716757052:role/dt2gsmoon'        \n",
    "    pass\n",
    "else:\n",
    "    role = sagemaker.get_execution_role()    \n"
   ]
  },
  {
   "cell_type": "code",
   "execution_count": 8,
   "id": "7551894e",
   "metadata": {
    "tags": []
   },
   "outputs": [],
   "source": [
    "# sagemaker_session = sagemaker.session.Session()\n",
    "import boto3\n",
    "\n",
    "boto_session = boto3.Session(region_name='us-east-1')\n",
    "sagemaker_session = sagemaker.session.Session(boto_session)\n"
   ]
  },
  {
   "cell_type": "markdown",
   "id": "6deeebb5",
   "metadata": {},
   "source": [
    "### Define hyperparameter"
   ]
  },
  {
   "cell_type": "code",
   "execution_count": 6,
   "id": "837a9316",
   "metadata": {
    "tags": []
   },
   "outputs": [],
   "source": [
    "hyperparameters = {\n",
    "       \"scale_pos_weight\" : \"29\",    \n",
    "        \"max_depth\": \"3\",\n",
    "        \"eta\": \"0.2\",\n",
    "        \"objective\": \"binary:logistic\",\n",
    "        \"num_round\": \"100\",\n",
    "}"
   ]
  },
  {
   "cell_type": "markdown",
   "id": "111d3658",
   "metadata": {},
   "source": [
    "### Define instance type "
   ]
  },
  {
   "cell_type": "code",
   "execution_count": 7,
   "id": "7f383326",
   "metadata": {
    "tags": []
   },
   "outputs": [],
   "source": [
    "instance_count = 1\n",
    "instance_type = \"ml.m5.large\"\n"
   ]
  },
  {
   "cell_type": "markdown",
   "id": "737483dd",
   "metadata": {},
   "source": [
    "### 학습 데이터셋 정의"
   ]
  },
  {
   "cell_type": "code",
   "execution_count": 10,
   "id": "9213627b",
   "metadata": {},
   "outputs": [
    {
     "name": "stdout",
     "output_type": "stream",
     "text": [
      "inputs: \n",
      " {'train': 's3://sagemaker-us-east-1-057716757052/xgboost/dataset'}\n"
     ]
    }
   ],
   "source": [
    "data_path=f's3://{bucket}/xgboost/dataset'\n",
    "!aws s3 sync ../data/dataset/ $data_path    \n",
    "\n",
    "\n",
    "inputs = {'train': data_path}\n",
    "print(\"inputs: \\n\", inputs)\n"
   ]
  },
  {
   "cell_type": "code",
   "execution_count": 24,
   "id": "ba0ac018-a793-4d74-9458-0dff0267d4ec",
   "metadata": {
    "tags": []
   },
   "outputs": [
    {
     "name": "stdout",
     "output_type": "stream",
     "text": [
      "inputs: \n",
      " {'train': 's3://sagemaker-us-east-1-189546603447/xgboost/dataset'}\n"
     ]
    }
   ],
   "source": []
  },
  {
   "cell_type": "markdown",
   "id": "431b6d4e-a23c-478e-9cde-4307326e426e",
   "metadata": {},
   "source": [
    "## S3 output location"
   ]
  },
  {
   "cell_type": "code",
   "execution_count": 25,
   "id": "ea88b53a-2650-4e8e-ac89-ba3028e85af9",
   "metadata": {
    "tags": []
   },
   "outputs": [
    {
     "name": "stdout",
     "output_type": "stream",
     "text": [
      "s3_output_location:  s3://sagemaker-us-east-1-189546603447/xgboost/output\n"
     ]
    }
   ],
   "source": [
    "# s3_bucket = 'cf-mask-rcnn-gsmoon'\n",
    "prefix = \"xgboost/output\"\n",
    "s3_output_location = f\"s3://{s3_bucket}/{prefix}\"\n",
    "print(\"s3_output_location: \", s3_output_location)"
   ]
  },
  {
   "cell_type": "markdown",
   "id": "88efa8f1-4eff-4d0e-ba41-4595f5084099",
   "metadata": {
    "tags": []
   },
   "source": [
    "## Setup VPC Endpoint"
   ]
  },
  {
   "cell_type": "code",
   "execution_count": 11,
   "id": "92a2ff7f-0292-4cf0-8feb-8ebe321673ce",
   "metadata": {
    "tags": []
   },
   "outputs": [
    {
     "name": "stdout",
     "output_type": "stream",
     "text": [
      "security_group_ids:  ['sg-0f29b424d0b3cb98e']\n",
      "subnets:  ['subnet-040bdcb3d561b3606']\n"
     ]
    }
   ],
   "source": [
    "# subnet_id = '<Type your subnet_id>'\n",
    "# security_group_id = '<Type your security_group_id'\n",
    "\n",
    "subnet_id = 'subnet-040bdcb3d561b3606'\n",
    "security_group_id = 'sg-0f29b424d0b3cb98e'\n",
    "\n",
    "security_group_ids = list()\n",
    "security_group_ids.append(security_group_id)\n",
    "subnets = list()\n",
    "subnets.append(subnet_id)\n",
    "print(\"security_group_ids: \", security_group_ids)\n",
    "print(\"subnets: \", subnets)\n"
   ]
  },
  {
   "cell_type": "code",
   "execution_count": 13,
   "id": "4dcee8ce-f51e-44da-9eac-84f9d4212281",
   "metadata": {
    "tags": []
   },
   "outputs": [],
   "source": [
    "from sagemaker.xgboost.estimator import XGBoost\n",
    "\n",
    "estimator = XGBoost(\n",
    "    entry_point=\"xgboost_fsx_luster_script.py\",\n",
    "    source_dir='src',\n",
    "    hyperparameters=hyperparameters,\n",
    "    role=role,\n",
    "    sagemaker_session=sagemaker_session,\n",
    "    instance_count=instance_count,\n",
    "    instance_type=instance_type,\n",
    "    framework_version=\"1.3-1\",\n",
    "    subnets=subnets,\n",
    "    security_group_ids=security_group_ids,    \n",
    ")"
   ]
  },
  {
   "cell_type": "code",
   "execution_count": 16,
   "id": "e5127e34",
   "metadata": {
    "tags": []
   },
   "outputs": [],
   "source": [
    "estimator.fit(inputs = inputs,\n",
    "                  wait=False)"
   ]
  },
  {
   "cell_type": "code",
   "execution_count": 17,
   "id": "274ab30b",
   "metadata": {
    "tags": []
   },
   "outputs": [
    {
     "name": "stdout",
     "output_type": "stream",
     "text": [
      "2023-05-07 14:43:48 Starting - Starting the training job...\n",
      "2023-05-07 14:44:11 Starting - Preparing the instances for trainingProfilerReport-1683470626: InProgress\n",
      "......\n",
      "2023-05-07 14:45:11 Downloading - Downloading input data...\n",
      "2023-05-07 14:45:52 Training - Downloading the training image...\n",
      "2023-05-07 14:46:16 Training - Training image download completed. Training in progress.[2023-05-07 14:46:19.469 ip-172-30-0-41.ec2.internal:6 INFO utils.py:28] RULE_JOB_STOP_SIGNAL_FILENAME: None\n",
      "[2023-05-07 14:46:19.496 ip-172-30-0-41.ec2.internal:6 INFO profiler_config_parser.py:111] User has disabled profiler.\n",
      "[2023-05-07:14:46:19:INFO] Imported framework sagemaker_xgboost_container.training\n",
      "[2023-05-07:14:46:19:INFO] No GPUs detected (normal if no gpus installed)\n",
      "[2023-05-07:14:46:19:INFO] Invoking user training script.\n",
      "[2023-05-07:14:46:19:INFO] Installing module with the following command:\n",
      "/miniconda3/bin/python3 -m pip install . \n",
      "Processing /opt/ml/code\n",
      "  Preparing metadata (setup.py): started\n",
      "  Preparing metadata (setup.py): finished with status 'done'\n",
      "Building wheels for collected packages: xgboost-starter-script\n",
      "  Building wheel for xgboost-starter-script (setup.py): started\n",
      "  Building wheel for xgboost-starter-script (setup.py): finished with status 'done'\n",
      "  Created wheel for xgboost-starter-script: filename=xgboost_starter_script-1.0.0-py2.py3-none-any.whl size=31192 sha256=89b3021dfee2528927c03a8a7d17067df0aec390fcdb681bac809aec3dc474f5\n",
      "  Stored in directory: /home/model-server/tmp/pip-ephem-wheel-cache-ts19rko2/wheels/3e/0f/51/2f1df833dd0412c1bc2f5ee56baac195b5be563353d111dca6\n",
      "Successfully built xgboost-starter-script\n",
      "Installing collected packages: xgboost-starter-script\n",
      "  Attempting uninstall: xgboost-starter-script\n",
      "    Found existing installation: xgboost-starter-script 1.0.0\n",
      "    Can't uninstall 'xgboost-starter-script'. No files were found to uninstall.\n",
      "Successfully installed xgboost-starter-script-1.0.0\n",
      "WARNING: Running pip as the 'root' user can result in broken permissions and conflicting behaviour with the system package manager. It is recommended to use a virtual environment instead: https://pip.pypa.io/warnings/venv\n",
      "[notice] A new release of pip is available: 23.0.1 -> 23.1.2\n",
      "[notice] To update, run: pip install --upgrade pip\n",
      "[2023-05-07:14:46:21:INFO] No GPUs detected (normal if no gpus installed)\n",
      "[2023-05-07:14:46:21:INFO] Invoking user script\n",
      "Training Env:\n",
      "{\n",
      "    \"additional_framework_parameters\": {},\n",
      "    \"channel_input_dirs\": {\n",
      "        \"train\": \"/opt/ml/input/data/train\"\n",
      "    },\n",
      "    \"current_host\": \"algo-1\",\n",
      "    \"framework_module\": \"sagemaker_xgboost_container.training:main\",\n",
      "    \"hosts\": [\n",
      "        \"algo-1\"\n",
      "    ],\n",
      "    \"hyperparameters\": {\n",
      "        \"eta\": \"0.2\",\n",
      "        \"max_depth\": \"3\",\n",
      "        \"num_round\": \"100\",\n",
      "        \"objective\": \"binary:logistic\",\n",
      "        \"scale_pos_weight\": \"29\"\n",
      "    },\n",
      "    \"input_config_dir\": \"/opt/ml/input/config\",\n",
      "    \"input_data_config\": {\n",
      "        \"train\": {\n",
      "            \"TrainingInputMode\": \"File\",\n",
      "            \"S3DistributionType\": \"FullyReplicated\",\n",
      "            \"RecordWrapperType\": \"None\"\n",
      "        }\n",
      "    },\n",
      "    \"input_dir\": \"/opt/ml/input\",\n",
      "    \"is_master\": true,\n",
      "    \"job_name\": \"sagemaker-xgboost-2023-05-07-14-43-43-698\",\n",
      "    \"log_level\": 20,\n",
      "    \"master_hostname\": \"algo-1\",\n",
      "    \"model_dir\": \"/opt/ml/model\",\n",
      "    \"module_dir\": \"s3://sagemaker-us-east-1-057716757052/sagemaker-xgboost-2023-05-07-14-43-43-698/source/sourcedir.tar.gz\",\n",
      "    \"module_name\": \"xgboost_fsx_luster_script\",\n",
      "    \"network_interface_name\": \"eth0\",\n",
      "    \"num_cpus\": 2,\n",
      "    \"num_gpus\": 0,\n",
      "    \"output_data_dir\": \"/opt/ml/output/data\",\n",
      "    \"output_dir\": \"/opt/ml/output\",\n",
      "    \"output_intermediate_dir\": \"/opt/ml/output/intermediate\",\n",
      "    \"resource_config\": {\n",
      "        \"current_host\": \"algo-1\",\n",
      "        \"current_instance_type\": \"ml.m5.large\",\n",
      "        \"current_group_name\": \"homogeneousCluster\",\n",
      "        \"hosts\": [\n",
      "            \"algo-1\"\n",
      "        ],\n",
      "        \"instance_groups\": [\n",
      "            {\n",
      "                \"instance_group_name\": \"homogeneousCluster\",\n",
      "                \"instance_type\": \"ml.m5.large\",\n",
      "                \"hosts\": [\n",
      "                    \"algo-1\"\n",
      "                ]\n",
      "            }\n",
      "        ],\n",
      "        \"network_interface_name\": \"eth0\"\n",
      "    },\n",
      "    \"user_entry_point\": \"xgboost_fsx_luster_script.py\"\n",
      "}\n",
      "Environment variables:\n",
      "SM_HOSTS=[\"algo-1\"]\n",
      "SM_NETWORK_INTERFACE_NAME=eth0\n",
      "SM_HPS={\"eta\":\"0.2\",\"max_depth\":\"3\",\"num_round\":\"100\",\"objective\":\"binary:logistic\",\"scale_pos_weight\":\"29\"}\n",
      "SM_USER_ENTRY_POINT=xgboost_fsx_luster_script.py\n",
      "SM_FRAMEWORK_PARAMS={}\n",
      "SM_RESOURCE_CONFIG={\"current_group_name\":\"homogeneousCluster\",\"current_host\":\"algo-1\",\"current_instance_type\":\"ml.m5.large\",\"hosts\":[\"algo-1\"],\"instance_groups\":[{\"hosts\":[\"algo-1\"],\"instance_group_name\":\"homogeneousCluster\",\"instance_type\":\"ml.m5.large\"}],\"network_interface_name\":\"eth0\"}\n",
      "SM_INPUT_DATA_CONFIG={\"train\":{\"RecordWrapperType\":\"None\",\"S3DistributionType\":\"FullyReplicated\",\"TrainingInputMode\":\"File\"}}\n",
      "SM_OUTPUT_DATA_DIR=/opt/ml/output/data\n",
      "SM_CHANNELS=[\"train\"]\n",
      "SM_CURRENT_HOST=algo-1\n",
      "SM_MODULE_NAME=xgboost_fsx_luster_script\n",
      "SM_LOG_LEVEL=20\n",
      "SM_FRAMEWORK_MODULE=sagemaker_xgboost_container.training:main\n",
      "SM_INPUT_DIR=/opt/ml/input\n",
      "SM_INPUT_CONFIG_DIR=/opt/ml/input/config\n",
      "SM_OUTPUT_DIR=/opt/ml/output\n",
      "SM_NUM_CPUS=2\n",
      "SM_NUM_GPUS=0\n",
      "SM_MODEL_DIR=/opt/ml/model\n",
      "SM_MODULE_DIR=s3://sagemaker-us-east-1-057716757052/sagemaker-xgboost-2023-05-07-14-43-43-698/source/sourcedir.tar.gz\n",
      "SM_TRAINING_ENV={\"additional_framework_parameters\":{},\"channel_input_dirs\":{\"train\":\"/opt/ml/input/data/train\"},\"current_host\":\"algo-1\",\"framework_module\":\"sagemaker_xgboost_container.training:main\",\"hosts\":[\"algo-1\"],\"hyperparameters\":{\"eta\":\"0.2\",\"max_depth\":\"3\",\"num_round\":\"100\",\"objective\":\"binary:logistic\",\"scale_pos_weight\":\"29\"},\"input_config_dir\":\"/opt/ml/input/config\",\"input_data_config\":{\"train\":{\"RecordWrapperType\":\"None\",\"S3DistributionType\":\"FullyReplicated\",\"TrainingInputMode\":\"File\"}},\"input_dir\":\"/opt/ml/input\",\"is_master\":true,\"job_name\":\"sagemaker-xgboost-2023-05-07-14-43-43-698\",\"log_level\":20,\"master_hostname\":\"algo-1\",\"model_dir\":\"/opt/ml/model\",\"module_dir\":\"s3://sagemaker-us-east-1-057716757052/sagemaker-xgboost-2023-05-07-14-43-43-698/source/sourcedir.tar.gz\",\"module_name\":\"xgboost_fsx_luster_script\",\"network_interface_name\":\"eth0\",\"num_cpus\":2,\"num_gpus\":0,\"output_data_dir\":\"/opt/ml/output/data\",\"output_dir\":\"/opt/ml/output\",\"output_intermediate_dir\":\"/opt/ml/output/intermediate\",\"resource_config\":{\"current_group_name\":\"homogeneousCluster\",\"current_host\":\"algo-1\",\"current_instance_type\":\"ml.m5.large\",\"hosts\":[\"algo-1\"],\"instance_groups\":[{\"hosts\":[\"algo-1\"],\"instance_group_name\":\"homogeneousCluster\",\"instance_type\":\"ml.m5.large\"}],\"network_interface_name\":\"eth0\"},\"user_entry_point\":\"xgboost_fsx_luster_script.py\"}\n",
      "SM_USER_ARGS=[\"--eta\",\"0.2\",\"--max_depth\",\"3\",\"--num_round\",\"100\",\"--objective\",\"binary:logistic\",\"--scale_pos_weight\",\"29\"]\n",
      "SM_OUTPUT_INTERMEDIATE_DIR=/opt/ml/output/intermediate\n",
      "SM_CHANNEL_TRAIN=/opt/ml/input/data/train\n",
      "SM_HP_ETA=0.2\n",
      "SM_HP_MAX_DEPTH=3\n",
      "SM_HP_NUM_ROUND=100\n",
      "SM_HP_OBJECTIVE=binary:logistic\n",
      "SM_HP_SCALE_POS_WEIGHT=29\n",
      "PYTHONPATH=/miniconda3/bin:/:/miniconda3/lib/python/site-packages/xgboost/dmlc-core/tracker:/miniconda3/lib/python37.zip:/miniconda3/lib/python3.7:/miniconda3/lib/python3.7/lib-dynload:/miniconda3/lib/python3.7/site-packages\n",
      "Invoking script with the following command:\n",
      "/miniconda3/bin/python3 -m xgboost_fsx_luster_script --eta 0.2 --max_depth 3 --num_round 100 --objective binary:logistic --scale_pos_weight 29\n",
      "train data path: \n",
      " /opt/ml/input/data/train/train.csv\n",
      "cv_results:      train-auc-mean  train-auc-std  test-auc-mean  test-auc-std\n",
      "0         0.819224       0.005816       0.769926      0.047341\n",
      "1         0.842821       0.012217       0.806518      0.021315\n",
      "2         0.854213       0.005705       0.806512      0.021542\n",
      "3         0.861384       0.008274       0.812600      0.030358\n",
      "4         0.873625       0.009501       0.814151      0.032305\n",
      "5         0.881067       0.009787       0.813072      0.027425\n",
      "6         0.886745       0.009047       0.810738      0.025871\n",
      "7         0.895144       0.009728       0.816828      0.023247\n",
      "8         0.898417       0.008864       0.817527      0.025424\n",
      "9         0.903438       0.010093       0.818247      0.024297\n",
      "10        0.909567       0.013376       0.818719      0.021123\n",
      "11        0.913054       0.013701       0.817377      0.019645\n",
      "12        0.918236       0.012743       0.820624      0.020702\n",
      "13        0.921825       0.012667       0.820398      0.020053\n",
      "14        0.926449       0.009542       0.818657      0.017779\n",
      "15        0.930879       0.009050       0.821708      0.018292\n",
      "16        0.935445       0.010258       0.821715      0.020194\n",
      "17        0.940519       0.006538       0.821841      0.020128\n",
      "[0]#011train-auc:0.9405190000000001\n",
      "[1]#011validation-auc:0.8218406\n",
      "[14:46:26] WARNING: ../src/learner.cc:1061: Starting in XGBoost 1.3.0, the default evaluation metric used with the objective 'binary:logistic' was changed from 'error' to 'logloss'. Explicitly set eval_metric if you'd like to restore the old behavior.\n",
      "\n",
      "2023-05-07 14:46:52 Uploading - Uploading generated training model\n",
      "2023-05-07 14:46:52 Completed - Training job completed\n",
      "Training seconds: 108\n",
      "Billable seconds: 108\n"
     ]
    }
   ],
   "source": [
    "estimator.logs()"
   ]
  },
  {
   "cell_type": "code",
   "execution_count": null,
   "id": "33b5a5ff-2381-439b-ba72-32722e0cb22e",
   "metadata": {},
   "outputs": [],
   "source": []
  }
 ],
 "metadata": {
  "kernelspec": {
   "display_name": "conda_python3",
   "language": "python",
   "name": "conda_python3"
  },
  "language_info": {
   "codemirror_mode": {
    "name": "ipython",
    "version": 3
   },
   "file_extension": ".py",
   "mimetype": "text/x-python",
   "name": "python",
   "nbconvert_exporter": "python",
   "pygments_lexer": "ipython3",
   "version": "3.10.8"
  }
 },
 "nbformat": 4,
 "nbformat_minor": 5
}
