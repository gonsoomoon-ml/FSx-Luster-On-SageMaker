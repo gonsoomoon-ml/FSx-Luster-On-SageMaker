{
 "cells": [
  {
   "cell_type": "markdown",
   "id": "70151e64",
   "metadata": {},
   "source": [
    "# 2.1 Amazon SageMaker Training using FSx for Luster"
   ]
  },
  {
   "cell_type": "markdown",
   "id": "bb7739ae",
   "metadata": {},
   "source": [
    "### 작업 실행 시 필요 라이브러리 import"
   ]
  },
  {
   "cell_type": "code",
   "execution_count": 1,
   "id": "5296340a",
   "metadata": {
    "tags": []
   },
   "outputs": [],
   "source": [
    "import boto3\n",
    "import sagemaker"
   ]
  },
  {
   "cell_type": "markdown",
   "id": "1b537034",
   "metadata": {},
   "source": [
    "### Bucket 정의"
   ]
  },
  {
   "cell_type": "code",
   "execution_count": 2,
   "id": "a2d075fb",
   "metadata": {
    "tags": []
   },
   "outputs": [
    {
     "name": "stdout",
     "output_type": "stream",
     "text": [
      "bucket:  sagemaker-us-east-1-057716757052\n"
     ]
    }
   ],
   "source": [
    "use_default_bucket = True\n",
    "# use_default_bucket = False\n",
    "\n",
    "if use_default_bucket:\n",
    "    bucket = sagemaker.session.Session().default_bucket()\n",
    "else:\n",
    "    bucket = '<Type your bucket name here>'\n",
    "    \n",
    "print(\"bucket: \", bucket)        "
   ]
  },
  {
   "cell_type": "markdown",
   "id": "2f72db2b",
   "metadata": {},
   "source": [
    "###  훈련 잡에 사용할 SageMaker Role 정의 \n",
    "- 로컬 머신에서 사용할 경우에는 아래의 주석을 해제하시고, SageMaker Execution Role ARN 을 넣어 주세요."
   ]
  },
  {
   "cell_type": "code",
   "execution_count": 3,
   "id": "8d4927e7",
   "metadata": {
    "tags": []
   },
   "outputs": [],
   "source": [
    "# # use_local_machine = False\n",
    "use_local_machine = True\n",
    "\n",
    "if use_local_machine:\n",
    "    # role = '<Type Role ARN here>'\n",
    "    pass\n",
    "else:\n",
    "    role = sagemaker.get_execution_role()    \n"
   ]
  },
  {
   "cell_type": "markdown",
   "id": "3823e14a",
   "metadata": {},
   "source": [
    "## Local 파일을 FSx for Luster 에 복사 하기"
   ]
  },
  {
   "cell_type": "code",
   "execution_count": 6,
   "id": "b1f428f7",
   "metadata": {
    "tags": []
   },
   "outputs": [],
   "source": [
    "is_fsx_data = True\n",
    "is_delete_fsx_data = False\n",
    "local_data_path = \"../data/dataset/\"\n",
    "fsx_path = '/fsx/fraud/'\n",
    "\n",
    "import os\n",
    "\n",
    "def run_os_command(cmd):\n",
    "    return_value = os.system(cmd)\n",
    "    print(\"return_value: \\n\", return_value)\n",
    "    \n",
    "\n",
    "def prepare_fsx_data(is_fsx_data, local_data_path, fsx_path):\n",
    "    if is_fsx_data:\n",
    "        print(\"fsx_path: \", fsx_path)\n",
    "        cmd = f'sudo cp -r {local_data_path} {fsx_path}'\n",
    "        run_os_command(cmd)\n",
    "        cmd = f'cd {fsx_path} && pwd && ls -R'    \n",
    "        run_os_command(cmd)\n",
    "        inputs = f'file://{fsx_path}'\n",
    "        \n",
    "    return inputs\n",
    "\n",
    "if is_delete_fsx_data:    \n",
    "    cmd = f'cd {fsx_path} && sudo rm -rf dataset && ls -R'    \n",
    "    run_os_command(cmd)\n",
    "    \n"
   ]
  },
  {
   "cell_type": "code",
   "execution_count": 7,
   "id": "76b24369",
   "metadata": {
    "tags": []
   },
   "outputs": [
    {
     "name": "stdout",
     "output_type": "stream",
     "text": [
      "fsx_path:  /fsx/fraud/\n",
      "return_value: \n",
      " 0\n",
      "/fsx/fraud\n",
      ".:\n",
      "test.csv\n",
      "train.csv\n",
      "return_value: \n",
      " 0\n",
      "input for fsx_path:  file:///fsx/fraud/\n"
     ]
    }
   ],
   "source": [
    "inputs = prepare_fsx_data(is_fsx_data, local_data_path, fsx_path)    \n",
    "\n",
    "print(\"input for fsx_path: \", inputs)                "
   ]
  },
  {
   "cell_type": "markdown",
   "id": "6deeebb5",
   "metadata": {},
   "source": [
    "### 하이퍼파라미터 정의"
   ]
  },
  {
   "cell_type": "code",
   "execution_count": 8,
   "id": "837a9316",
   "metadata": {
    "tags": []
   },
   "outputs": [],
   "source": [
    "hyperparameters = {\n",
    "       \"scale_pos_weight\" : \"29\",    \n",
    "        \"max_depth\": \"3\",\n",
    "        \"eta\": \"0.2\",\n",
    "        \"objective\": \"binary:logistic\",\n",
    "        \"num_round\": \"100\",\n",
    "}"
   ]
  },
  {
   "cell_type": "markdown",
   "id": "111d3658",
   "metadata": {},
   "source": [
    "### 학습 실행 작업 정의"
   ]
  },
  {
   "cell_type": "code",
   "execution_count": 10,
   "id": "7f383326",
   "metadata": {
    "tags": []
   },
   "outputs": [],
   "source": [
    "sagemaker_session = sagemaker.session.Session()\n",
    "instance_count = 1\n",
    "instance_type = \"ml.m5.large\"\n",
    "\n",
    "max_run = 1*60*60\n"
   ]
  },
  {
   "cell_type": "markdown",
   "id": "9a83d17b-8a06-4448-b682-33b38a0b2874",
   "metadata": {},
   "source": [
    "## FSx for Luster 데이터 채널 준비"
   ]
  },
  {
   "cell_type": "code",
   "execution_count": 19,
   "id": "6cbad25f-f0d1-469e-85ed-e1afe1e39f16",
   "metadata": {
    "tags": []
   },
   "outputs": [
    {
     "name": "stdout",
     "output_type": "stream",
     "text": [
      "FSx file-system data input path: /pm6ybbev/fraud\n",
      "inputs: \n",
      " {'train': <sagemaker.inputs.FileSystemInput object at 0x7ff64eda1570>}\n"
     ]
    }
   ],
   "source": [
    "from sagemaker.inputs import FileSystemInput\n",
    "\n",
    "# Specify FSx Lustre file system id.\n",
    "# file_system_id = # \"fs-xxxxxxxxxxxxxx\"\n",
    "file_system_id = 'fs-0b14fc14ade3ce3e3'\n",
    "\n",
    "# Specify directory path for input data on the file system. \n",
    "# You need to provide normalized and absolute path below.\n",
    "# base_path = \"<your-mount-name>\"\n",
    "\n",
    "###########################\n",
    "# Train Data\n",
    "###########################\n",
    "base_path = '/pm6ybbev'\n",
    "\n",
    "file_system_directory_path = f'{base_path}/fraud'\n",
    "print(f'FSx file-system data input path: {file_system_directory_path}')\n",
    "\n",
    "file_system_type = 'FSxLustre'\n",
    "file_system_access_mode = 'rw'\n",
    "\n",
    "train = FileSystemInput(file_system_id=file_system_id,\n",
    "                        file_system_type=file_system_type,\n",
    "                        directory_path=file_system_directory_path,\n",
    "                        file_system_access_mode=file_system_access_mode)\n",
    "\n",
    "###########################\n",
    "# Log Data\n",
    "###########################\n",
    "\n",
    "# log_file_system_directory_path = f'{base_path}/fraud/log'\n",
    "# print(f'FSx file-system log path: {log_file_system_directory_path}')\n",
    "\n",
    "\n",
    "# log = FileSystemInput(file_system_id=file_system_id,\n",
    "#                       file_system_type=file_system_type,\n",
    "#                       directory_path=log_file_system_directory_path,\n",
    "#                       file_system_access_mode=file_system_access_mode)\n",
    "\n",
    "# inputs = {'train': train, 'log': log}\n",
    "\n",
    "inputs = {'train': train}\n",
    "\n",
    "\n",
    "print(\"inputs: \\n\", inputs)\n",
    "\n"
   ]
  },
  {
   "cell_type": "markdown",
   "id": "88efa8f1-4eff-4d0e-ba41-4595f5084099",
   "metadata": {
    "tags": []
   },
   "source": [
    "## Setup FSx for Luster Network"
   ]
  },
  {
   "cell_type": "code",
   "execution_count": 20,
   "id": "92a2ff7f-0292-4cf0-8feb-8ebe321673ce",
   "metadata": {
    "tags": []
   },
   "outputs": [
    {
     "name": "stdout",
     "output_type": "stream",
     "text": [
      "security_group_ids:  ['sg-0f29b424d0b3cb98e']\n",
      "subnets:  ['subnet-040bdcb3d561b3606']\n"
     ]
    }
   ],
   "source": [
    "# Give Amazon SageMaker Training Jobs Access to FileSystem Resources in Your Amazon VPC.\n",
    "# security_group_ids = # ['sg-xxxxxxxx'] \n",
    "# subnets = # [ 'subnet-xxxxxxx']\n",
    "\n",
    "subnet_id = 'subnet-040bdcb3d561b3606'\n",
    "security_group_id = 'sg-0f29b424d0b3cb98e'\n",
    "\n",
    "security_group_ids = list()\n",
    "security_group_ids.append(security_group_id)\n",
    "subnets = list()\n",
    "subnets.append(subnet_id)\n",
    "print(\"security_group_ids: \", security_group_ids)\n",
    "print(\"subnets: \", subnets)\n"
   ]
  },
  {
   "cell_type": "code",
   "execution_count": 21,
   "id": "4dcee8ce-f51e-44da-9eac-84f9d4212281",
   "metadata": {
    "tags": []
   },
   "outputs": [],
   "source": [
    "from sagemaker.xgboost.estimator import XGBoost\n",
    "\n",
    "estimator = XGBoost(\n",
    "    entry_point=\"xgboost_fsx_luster_script.py\",\n",
    "    source_dir='src',\n",
    "    hyperparameters=hyperparameters,\n",
    "    role=role,\n",
    "    sagemaker_session=sagemaker_session,\n",
    "    instance_count=instance_count,\n",
    "    instance_type=instance_type,\n",
    "    framework_version=\"1.3-1\",\n",
    "    max_run=max_run,\n",
    "    subnets=subnets,\n",
    "    security_group_ids=security_group_ids,    \n",
    ")"
   ]
  },
  {
   "cell_type": "markdown",
   "id": "61ba2857",
   "metadata": {},
   "source": [
    "### 학습 실행"
   ]
  },
  {
   "cell_type": "code",
   "execution_count": 22,
   "id": "e5127e34",
   "metadata": {
    "tags": []
   },
   "outputs": [],
   "source": [
    "estimator.fit(inputs = inputs,\n",
    "                  wait=False)"
   ]
  },
  {
   "cell_type": "code",
   "execution_count": 23,
   "id": "274ab30b",
   "metadata": {
    "tags": []
   },
   "outputs": [
    {
     "name": "stdout",
     "output_type": "stream",
     "text": [
      "2023-05-07 15:15:59 Starting - Starting the training job...ProfilerReport-1683472559: InProgress\n",
      "...\n",
      "2023-05-07 15:16:44 Starting - Preparing the instances for training......\n",
      "2023-05-07 15:17:47 Downloading - Downloading input data...\n",
      "2023-05-07 15:18:27 Training - Downloading the training image.....\u001b[34m[2023-05-07 15:19:06.689 ip-172-30-0-47.ec2.internal:7 INFO utils.py:28] RULE_JOB_STOP_SIGNAL_FILENAME: None\u001b[0m\n",
      "\u001b[34m[2023-05-07 15:19:06.712 ip-172-30-0-47.ec2.internal:7 INFO profiler_config_parser.py:111] User has disabled profiler.\u001b[0m\n",
      "\u001b[34m[2023-05-07:15:19:06:INFO] Imported framework sagemaker_xgboost_container.training\u001b[0m\n",
      "\u001b[34m[2023-05-07:15:19:06:INFO] No GPUs detected (normal if no gpus installed)\u001b[0m\n",
      "\u001b[34m[2023-05-07:15:19:06:INFO] Invoking user training script.\u001b[0m\n",
      "\u001b[34m[2023-05-07:15:19:06:INFO] Installing module with the following command:\u001b[0m\n",
      "\u001b[34m/miniconda3/bin/python3 -m pip install . \u001b[0m\n",
      "\u001b[34mProcessing /opt/ml/code\n",
      "  Preparing metadata (setup.py): started\n",
      "  Preparing metadata (setup.py): finished with status 'done'\u001b[0m\n",
      "\u001b[34mBuilding wheels for collected packages: xgboost-starter-script\n",
      "  Building wheel for xgboost-starter-script (setup.py): started\n",
      "  Building wheel for xgboost-starter-script (setup.py): finished with status 'done'\n",
      "  Created wheel for xgboost-starter-script: filename=xgboost_starter_script-1.0.0-py2.py3-none-any.whl size=31107 sha256=c2f6ce229af90419de07c90ddb358c94fed6abf9306eb38d6f0d00a972ecd233\n",
      "  Stored in directory: /home/model-server/tmp/pip-ephem-wheel-cache-b7mqq0j2/wheels/3e/0f/51/2f1df833dd0412c1bc2f5ee56baac195b5be563353d111dca6\u001b[0m\n",
      "\u001b[34mSuccessfully built xgboost-starter-script\u001b[0m\n",
      "\u001b[34mInstalling collected packages: xgboost-starter-script\n",
      "  Attempting uninstall: xgboost-starter-script\n",
      "    Found existing installation: xgboost-starter-script 1.0.0\n",
      "    Can't uninstall 'xgboost-starter-script'. No files were found to uninstall.\u001b[0m\n",
      "\u001b[34mSuccessfully installed xgboost-starter-script-1.0.0\u001b[0m\n",
      "\u001b[34mWARNING: Running pip as the 'root' user can result in broken permissions and conflicting behaviour with the system package manager. It is recommended to use a virtual environment instead: https://pip.pypa.io/warnings/venv\u001b[0m\n",
      "\u001b[34m[notice] A new release of pip is available: 23.0.1 -> 23.1.2\u001b[0m\n",
      "\u001b[34m[notice] To update, run: pip install --upgrade pip\u001b[0m\n",
      "\u001b[34m[2023-05-07:15:19:08:INFO] No GPUs detected (normal if no gpus installed)\u001b[0m\n",
      "\u001b[34m[2023-05-07:15:19:08:INFO] Invoking user script\u001b[0m\n",
      "\u001b[34mTraining Env:\u001b[0m\n",
      "\u001b[34m{\n",
      "    \"additional_framework_parameters\": {},\n",
      "    \"channel_input_dirs\": {\n",
      "        \"train\": \"/opt/ml/input/data/train\"\n",
      "    },\n",
      "    \"current_host\": \"algo-1\",\n",
      "    \"framework_module\": \"sagemaker_xgboost_container.training:main\",\n",
      "    \"hosts\": [\n",
      "        \"algo-1\"\n",
      "    ],\n",
      "    \"hyperparameters\": {\n",
      "        \"eta\": \"0.2\",\n",
      "        \"max_depth\": \"3\",\n",
      "        \"num_round\": \"100\",\n",
      "        \"objective\": \"binary:logistic\",\n",
      "        \"scale_pos_weight\": \"29\"\n",
      "    },\n",
      "    \"input_config_dir\": \"/opt/ml/input/config\",\n",
      "    \"input_data_config\": {\n",
      "        \"train\": {\n",
      "            \"TrainingInputMode\": \"File\",\n",
      "            \"S3DistributionType\": \"FullyReplicated\",\n",
      "            \"RecordWrapperType\": \"None\"\n",
      "        }\n",
      "    },\n",
      "    \"input_dir\": \"/opt/ml/input\",\n",
      "    \"is_master\": true,\n",
      "    \"job_name\": \"sagemaker-xgboost-2023-05-07-15-15-59-676\",\n",
      "    \"log_level\": 20,\n",
      "    \"master_hostname\": \"algo-1\",\n",
      "    \"model_dir\": \"/opt/ml/model\",\n",
      "    \"module_dir\": \"s3://sagemaker-us-east-1-057716757052/sagemaker-xgboost-2023-05-07-15-15-59-676/source/sourcedir.tar.gz\",\n",
      "    \"module_name\": \"xgboost_fsx_luster_script\",\n",
      "    \"network_interface_name\": \"eth0\",\n",
      "    \"num_cpus\": 2,\n",
      "    \"num_gpus\": 0,\n",
      "    \"output_data_dir\": \"/opt/ml/output/data\",\n",
      "    \"output_dir\": \"/opt/ml/output\",\n",
      "    \"output_intermediate_dir\": \"/opt/ml/output/intermediate\",\n",
      "    \"resource_config\": {\n",
      "        \"current_host\": \"algo-1\",\n",
      "        \"current_instance_type\": \"ml.m5.large\",\n",
      "        \"current_group_name\": \"homogeneousCluster\",\n",
      "        \"hosts\": [\n",
      "            \"algo-1\"\n",
      "        ],\n",
      "        \"instance_groups\": [\n",
      "            {\n",
      "                \"instance_group_name\": \"homogeneousCluster\",\n",
      "                \"instance_type\": \"ml.m5.large\",\n",
      "                \"hosts\": [\n",
      "                    \"algo-1\"\n",
      "                ]\n",
      "            }\n",
      "        ],\n",
      "        \"network_interface_name\": \"eth0\"\n",
      "    },\n",
      "    \"user_entry_point\": \"xgboost_fsx_luster_script.py\"\u001b[0m\n",
      "\u001b[34m}\u001b[0m\n",
      "\u001b[34mEnvironment variables:\u001b[0m\n",
      "\u001b[34mSM_HOSTS=[\"algo-1\"]\u001b[0m\n",
      "\u001b[34mSM_NETWORK_INTERFACE_NAME=eth0\u001b[0m\n",
      "\u001b[34mSM_HPS={\"eta\":\"0.2\",\"max_depth\":\"3\",\"num_round\":\"100\",\"objective\":\"binary:logistic\",\"scale_pos_weight\":\"29\"}\u001b[0m\n",
      "\u001b[34mSM_USER_ENTRY_POINT=xgboost_fsx_luster_script.py\u001b[0m\n",
      "\u001b[34mSM_FRAMEWORK_PARAMS={}\u001b[0m\n",
      "\u001b[34mSM_RESOURCE_CONFIG={\"current_group_name\":\"homogeneousCluster\",\"current_host\":\"algo-1\",\"current_instance_type\":\"ml.m5.large\",\"hosts\":[\"algo-1\"],\"instance_groups\":[{\"hosts\":[\"algo-1\"],\"instance_group_name\":\"homogeneousCluster\",\"instance_type\":\"ml.m5.large\"}],\"network_interface_name\":\"eth0\"}\u001b[0m\n",
      "\u001b[34mSM_INPUT_DATA_CONFIG={\"train\":{\"RecordWrapperType\":\"None\",\"S3DistributionType\":\"FullyReplicated\",\"TrainingInputMode\":\"File\"}}\u001b[0m\n",
      "\u001b[34mSM_OUTPUT_DATA_DIR=/opt/ml/output/data\u001b[0m\n",
      "\u001b[34mSM_CHANNELS=[\"train\"]\u001b[0m\n",
      "\u001b[34mSM_CURRENT_HOST=algo-1\u001b[0m\n",
      "\u001b[34mSM_MODULE_NAME=xgboost_fsx_luster_script\u001b[0m\n",
      "\u001b[34mSM_LOG_LEVEL=20\u001b[0m\n",
      "\u001b[34mSM_FRAMEWORK_MODULE=sagemaker_xgboost_container.training:main\u001b[0m\n",
      "\u001b[34mSM_INPUT_DIR=/opt/ml/input\u001b[0m\n",
      "\u001b[34mSM_INPUT_CONFIG_DIR=/opt/ml/input/config\u001b[0m\n",
      "\u001b[34mSM_OUTPUT_DIR=/opt/ml/output\u001b[0m\n",
      "\u001b[34mSM_NUM_CPUS=2\u001b[0m\n",
      "\u001b[34mSM_NUM_GPUS=0\u001b[0m\n",
      "\u001b[34mSM_MODEL_DIR=/opt/ml/model\u001b[0m\n",
      "\u001b[34mSM_MODULE_DIR=s3://sagemaker-us-east-1-057716757052/sagemaker-xgboost-2023-05-07-15-15-59-676/source/sourcedir.tar.gz\u001b[0m\n",
      "\u001b[34mSM_TRAINING_ENV={\"additional_framework_parameters\":{},\"channel_input_dirs\":{\"train\":\"/opt/ml/input/data/train\"},\"current_host\":\"algo-1\",\"framework_module\":\"sagemaker_xgboost_container.training:main\",\"hosts\":[\"algo-1\"],\"hyperparameters\":{\"eta\":\"0.2\",\"max_depth\":\"3\",\"num_round\":\"100\",\"objective\":\"binary:logistic\",\"scale_pos_weight\":\"29\"},\"input_config_dir\":\"/opt/ml/input/config\",\"input_data_config\":{\"train\":{\"RecordWrapperType\":\"None\",\"S3DistributionType\":\"FullyReplicated\",\"TrainingInputMode\":\"File\"}},\"input_dir\":\"/opt/ml/input\",\"is_master\":true,\"job_name\":\"sagemaker-xgboost-2023-05-07-15-15-59-676\",\"log_level\":20,\"master_hostname\":\"algo-1\",\"model_dir\":\"/opt/ml/model\",\"module_dir\":\"s3://sagemaker-us-east-1-057716757052/sagemaker-xgboost-2023-05-07-15-15-59-676/source/sourcedir.tar.gz\",\"module_name\":\"xgboost_fsx_luster_script\",\"network_interface_name\":\"eth0\",\"num_cpus\":2,\"num_gpus\":0,\"output_data_dir\":\"/opt/ml/output/data\",\"output_dir\":\"/opt/ml/output\",\"output_intermediate_dir\":\"/opt/ml/output/intermediate\",\"resource_config\":{\"current_group_name\":\"homogeneousCluster\",\"current_host\":\"algo-1\",\"current_instance_type\":\"ml.m5.large\",\"hosts\":[\"algo-1\"],\"instance_groups\":[{\"hosts\":[\"algo-1\"],\"instance_group_name\":\"homogeneousCluster\",\"instance_type\":\"ml.m5.large\"}],\"network_interface_name\":\"eth0\"},\"user_entry_point\":\"xgboost_fsx_luster_script.py\"}\u001b[0m\n",
      "\u001b[34mSM_USER_ARGS=[\"--eta\",\"0.2\",\"--max_depth\",\"3\",\"--num_round\",\"100\",\"--objective\",\"binary:logistic\",\"--scale_pos_weight\",\"29\"]\u001b[0m\n",
      "\u001b[34mSM_OUTPUT_INTERMEDIATE_DIR=/opt/ml/output/intermediate\u001b[0m\n",
      "\u001b[34mSM_CHANNEL_TRAIN=/opt/ml/input/data/train\u001b[0m\n",
      "\u001b[34mSM_HP_ETA=0.2\u001b[0m\n",
      "\u001b[34mSM_HP_MAX_DEPTH=3\u001b[0m\n",
      "\u001b[34mSM_HP_NUM_ROUND=100\u001b[0m\n",
      "\u001b[34mSM_HP_OBJECTIVE=binary:logistic\u001b[0m\n",
      "\u001b[34mSM_HP_SCALE_POS_WEIGHT=29\u001b[0m\n",
      "\u001b[34mPYTHONPATH=/miniconda3/bin:/:/miniconda3/lib/python/site-packages/xgboost/dmlc-core/tracker:/miniconda3/lib/python37.zip:/miniconda3/lib/python3.7:/miniconda3/lib/python3.7/lib-dynload:/miniconda3/lib/python3.7/site-packages\u001b[0m\n",
      "\u001b[34mInvoking script with the following command:\u001b[0m\n",
      "\u001b[34m/miniconda3/bin/python3 -m xgboost_fsx_luster_script --eta 0.2 --max_depth 3 --num_round 100 --objective binary:logistic --scale_pos_weight 29\u001b[0m\n",
      "\u001b[34mtrain data path: \n",
      " /opt/ml/input/data/train/train.csv\u001b[0m\n",
      "\u001b[34mcv_results:      train-auc-mean  train-auc-std  test-auc-mean  test-auc-std\u001b[0m\n",
      "\u001b[34m0         0.819224       0.005816       0.769926      0.047341\u001b[0m\n",
      "\u001b[34m1         0.842821       0.012217       0.806518      0.021315\u001b[0m\n",
      "\u001b[34m2         0.854213       0.005705       0.806512      0.021542\u001b[0m\n",
      "\u001b[34m3         0.861384       0.008274       0.812600      0.030358\u001b[0m\n",
      "\u001b[34m4         0.873625       0.009501       0.814151      0.032305\u001b[0m\n",
      "\u001b[34m5         0.881067       0.009787       0.813072      0.027425\u001b[0m\n",
      "\u001b[34m6         0.886745       0.009047       0.810738      0.025871\u001b[0m\n",
      "\u001b[34m7         0.895144       0.009728       0.816828      0.023247\u001b[0m\n",
      "\u001b[34m8         0.898417       0.008864       0.817527      0.025424\u001b[0m\n",
      "\u001b[34m9         0.903438       0.010093       0.818247      0.024297\u001b[0m\n",
      "\u001b[34m10        0.909567       0.013376       0.818719      0.021123\u001b[0m\n",
      "\u001b[34m11        0.913054       0.013701       0.817377      0.019645\u001b[0m\n",
      "\u001b[34m12        0.918236       0.012743       0.820624      0.020702\u001b[0m\n",
      "\u001b[34m13        0.921825       0.012667       0.820398      0.020053\u001b[0m\n",
      "\u001b[34m14        0.926449       0.009542       0.818657      0.017779\u001b[0m\n",
      "\u001b[34m15        0.930879       0.009050       0.821708      0.018292\u001b[0m\n",
      "\u001b[34m16        0.935445       0.010258       0.821715      0.020194\u001b[0m\n",
      "\u001b[34m17        0.940519       0.006538       0.821841      0.020128\u001b[0m\n",
      "\u001b[34m[0]#011train-auc:0.9405190000000001\u001b[0m\n",
      "\u001b[34m[1]#011validation-auc:0.8218406\u001b[0m\n",
      "\u001b[34m[15:19:13] WARNING: ../src/learner.cc:1061: Starting in XGBoost 1.3.0, the default evaluation metric used with the objective 'binary:logistic' was changed from 'error' to 'logloss'. Explicitly set eval_metric if you'd like to restore the old behavior.\u001b[0m\n",
      "\n",
      "2023-05-07 15:19:30 Uploading - Uploading generated training model\n",
      "2023-05-07 15:19:30 Completed - Training job completed\n",
      "Training seconds: 104\n",
      "Billable seconds: 104\n"
     ]
    }
   ],
   "source": [
    "estimator.logs()"
   ]
  },
  {
   "cell_type": "code",
   "execution_count": null,
   "id": "33b5a5ff-2381-439b-ba72-32722e0cb22e",
   "metadata": {},
   "outputs": [],
   "source": []
  }
 ],
 "metadata": {
  "kernelspec": {
   "display_name": "conda_python3",
   "language": "python",
   "name": "conda_python3"
  },
  "language_info": {
   "codemirror_mode": {
    "name": "ipython",
    "version": 3
   },
   "file_extension": ".py",
   "mimetype": "text/x-python",
   "name": "python",
   "nbconvert_exporter": "python",
   "pygments_lexer": "ipython3",
   "version": "3.10.8"
  }
 },
 "nbformat": 4,
 "nbformat_minor": 5
}
