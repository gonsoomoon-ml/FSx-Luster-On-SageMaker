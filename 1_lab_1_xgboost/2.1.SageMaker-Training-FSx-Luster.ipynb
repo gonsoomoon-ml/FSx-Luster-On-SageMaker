{
 "cells": [
  {
   "cell_type": "markdown",
   "id": "70151e64",
   "metadata": {},
   "source": [
    "# 2.1 Amazon SageMaker Training 실습"
   ]
  },
  {
   "cell_type": "markdown",
   "id": "bb7739ae",
   "metadata": {},
   "source": [
    "### 작업 실행 시 필요 라이브러리 import"
   ]
  },
  {
   "cell_type": "code",
   "execution_count": null,
   "id": "5296340a",
   "metadata": {
    "tags": []
   },
   "outputs": [],
   "source": [
    "import boto3\n",
    "import sagemaker"
   ]
  },
  {
   "cell_type": "markdown",
   "id": "3edc2244",
   "metadata": {},
   "source": [
    "### SageMaker 세션과 Role, 사용 버킷 정의"
   ]
  },
  {
   "cell_type": "code",
   "execution_count": null,
   "id": "7551894e",
   "metadata": {
    "tags": []
   },
   "outputs": [],
   "source": [
    "sagemaker_session = sagemaker.session.Session()\n",
    "role = sagemaker.get_execution_role()"
   ]
  },
  {
   "cell_type": "code",
   "execution_count": null,
   "id": "8f4a1511",
   "metadata": {
    "tags": []
   },
   "outputs": [],
   "source": [
    "# bucket = sagemaker_session.default_bucket()\n",
    "# code_location = f's3://{bucket}/xgboost/code'\n",
    "# output_path = f's3://{bucket}/xgboost/output'"
   ]
  },
  {
   "cell_type": "markdown",
   "id": "6deeebb5",
   "metadata": {},
   "source": [
    "### 하이퍼파라미터 정의"
   ]
  },
  {
   "cell_type": "code",
   "execution_count": null,
   "id": "837a9316",
   "metadata": {
    "tags": []
   },
   "outputs": [],
   "source": [
    "hyperparameters = {\n",
    "       \"scale_pos_weight\" : \"29\",    \n",
    "        \"max_depth\": \"3\",\n",
    "        \"eta\": \"0.2\",\n",
    "        \"objective\": \"binary:logistic\",\n",
    "        \"num_round\": \"100\",\n",
    "}"
   ]
  },
  {
   "cell_type": "markdown",
   "id": "111d3658",
   "metadata": {},
   "source": [
    "### 학습 실행 작업 정의"
   ]
  },
  {
   "cell_type": "code",
   "execution_count": null,
   "id": "7f383326",
   "metadata": {
    "tags": []
   },
   "outputs": [],
   "source": [
    "instance_count = 1\n",
    "instance_type = \"ml.m5.large\"\n",
    "# instance_type = \"local\"\n",
    "# instance_type = \"local_gpu\"\n",
    "\n",
    "max_run = 1*60*60\n",
    "\n",
    "use_spot_instances = False\n",
    "if use_spot_instances:\n",
    "    max_wait = 1*60*60\n",
    "else:\n",
    "    max_wait = None"
   ]
  },
  {
   "cell_type": "code",
   "execution_count": null,
   "id": "81c0b774-9be5-4e1c-a30e-f9ee3edaeeb3",
   "metadata": {
    "tags": []
   },
   "outputs": [],
   "source": [
    "if instance_type in ['local', 'local_gpu']:\n",
    "    from sagemaker.local import LocalSession\n",
    "    sagemaker_session = LocalSession()\n",
    "    sagemaker_session.config = {'local': {'local_code': True}}\n",
    "else:\n",
    "    sagemaker_session = sagemaker.session.Session()"
   ]
  },
  {
   "cell_type": "markdown",
   "id": "9a83d17b-8a06-4448-b682-33b38a0b2874",
   "metadata": {},
   "source": [
    "## FSx for Luster 데이터 채널 준비"
   ]
  },
  {
   "cell_type": "code",
   "execution_count": null,
   "id": "6cbad25f-f0d1-469e-85ed-e1afe1e39f16",
   "metadata": {
    "tags": []
   },
   "outputs": [],
   "source": [
    "from sagemaker.inputs import FileSystemInput\n",
    "\n",
    "# Specify FSx Lustre file system id.\n",
    "# file_system_id = # \"fs-xxxxxxxxxxxxxx\"\n",
    "file_system_id = 'fs-092cbdbab4de3f550'\n",
    "\n",
    "# Specify directory path for input data on the file system. \n",
    "# You need to provide normalized and absolute path below.\n",
    "# base_path = \"<your-mount-name>\"\n",
    "\n",
    "###########################\n",
    "# Train Data\n",
    "###########################\n",
    "base_path = '/qbryzbev'\n",
    "\n",
    "file_system_directory_path = f'{base_path}/fraud'\n",
    "print(f'FSx file-system data input path: {file_system_directory_path}')\n",
    "\n",
    "\n",
    "file_system_access_mode = 'rw'\n",
    "\n",
    "train = FileSystemInput(file_system_id=file_system_id,\n",
    "                        file_system_type=file_system_type,\n",
    "                        directory_path=file_system_directory_path,\n",
    "                        file_system_access_mode=file_system_access_mode)\n",
    "\n",
    "###########################\n",
    "# Log Data\n",
    "###########################\n",
    "\n",
    "log_file_system_directory_path = f'{base_path}/fraud/log'\n",
    "print(f'FSx file-system log path: {log_file_system_directory_path}')\n",
    "\n",
    "\n",
    "log = FileSystemInput(file_system_id=file_system_id,\n",
    "                      file_system_type=file_system_type,\n",
    "                      directory_path=log_file_system_directory_path,\n",
    "                      file_system_access_mode=file_system_access_mode)\n",
    "\n",
    "inputs = {'train': train, 'log': log}\n",
    "\n",
    "\n",
    "print(\"inputs: \\n\", inputs)\n",
    "\n"
   ]
  },
  {
   "cell_type": "markdown",
   "id": "88efa8f1-4eff-4d0e-ba41-4595f5084099",
   "metadata": {
    "tags": []
   },
   "source": [
    "## Setup FSx for Luster Network"
   ]
  },
  {
   "cell_type": "code",
   "execution_count": null,
   "id": "92a2ff7f-0292-4cf0-8feb-8ebe321673ce",
   "metadata": {
    "tags": []
   },
   "outputs": [],
   "source": [
    "# Give Amazon SageMaker Training Jobs Access to FileSystem Resources in Your Amazon VPC.\n",
    "# security_group_ids = # ['sg-xxxxxxxx'] \n",
    "# subnets = # [ 'subnet-xxxxxxx']\n",
    "\n",
    "subnet_id = 'subnet-f1067697'\n",
    "security_group_id = 'sg-01d2d82fa2227f449'\n",
    "\n",
    "security_group_ids = list()\n",
    "security_group_ids.append(security_group_id)\n",
    "subnets = list()\n",
    "subnets.append(subnet_id)\n",
    "print(\"security_group_ids: \", security_group_ids)\n",
    "print(\"subnets: \", subnets)\n"
   ]
  },
  {
   "cell_type": "markdown",
   "id": "431b6d4e-a23c-478e-9cde-4307326e426e",
   "metadata": {},
   "source": [
    "## S3 output location"
   ]
  },
  {
   "cell_type": "code",
   "execution_count": null,
   "id": "ea88b53a-2650-4e8e-ac89-ba3028e85af9",
   "metadata": {
    "tags": []
   },
   "outputs": [],
   "source": [
    "s3_bucket = 'cf-mask-rcnn-gsmoon'\n",
    "prefix = \"fraud/output\"\n",
    "s3_output_location = f\"s3://{s3_bucket}/{prefix}\"\n",
    "print(\"s3_output_location: \", s3_output_location)"
   ]
  },
  {
   "cell_type": "code",
   "execution_count": null,
   "id": "4dcee8ce-f51e-44da-9eac-84f9d4212281",
   "metadata": {
    "tags": []
   },
   "outputs": [],
   "source": [
    "from sagemaker.xgboost.estimator import XGBoost\n",
    "\n",
    "estimator = XGBoost(\n",
    "    entry_point=\"xgboost_fsx_luster_script.py\",\n",
    "    source_dir='src',\n",
    "#    code_location=code_location,\n",
    "    hyperparameters=hyperparameters,\n",
    "    role=role,\n",
    "    sagemaker_session=sagemaker_session,\n",
    "    instance_count=instance_count,\n",
    "    instance_type=instance_type,\n",
    "    framework_version=\"1.3-1\",\n",
    "    max_run=max_run,\n",
    "    use_spot_instances=use_spot_instances,  # spot instance 활용\n",
    "    output_path=s3_output_location,    \n",
    "    max_wait=max_wait,\n",
    "    keep_alive_period_in_seconds=1800,        \n",
    "    subnets=subnets,\n",
    "    security_group_ids=security_group_ids,    \n",
    ")"
   ]
  },
  {
   "cell_type": "code",
   "execution_count": null,
   "id": "ef6da772-3d98-452d-a948-ddce80201abf",
   "metadata": {
    "tags": []
   },
   "outputs": [],
   "source": [
    "inputs"
   ]
  },
  {
   "cell_type": "markdown",
   "id": "61ba2857",
   "metadata": {},
   "source": [
    "### 학습 실행"
   ]
  },
  {
   "cell_type": "code",
   "execution_count": null,
   "id": "e5127e34",
   "metadata": {
    "tags": []
   },
   "outputs": [],
   "source": [
    "estimator.fit(inputs = inputs,\n",
    "                  wait=False)"
   ]
  },
  {
   "cell_type": "code",
   "execution_count": null,
   "id": "274ab30b",
   "metadata": {
    "tags": []
   },
   "outputs": [],
   "source": [
    "estimator.logs()"
   ]
  },
  {
   "cell_type": "code",
   "execution_count": null,
   "id": "33b5a5ff-2381-439b-ba72-32722e0cb22e",
   "metadata": {},
   "outputs": [],
   "source": []
  }
 ],
 "metadata": {
  "kernelspec": {
   "display_name": "conda_python3",
   "language": "python",
   "name": "conda_python3"
  },
  "language_info": {
   "codemirror_mode": {
    "name": "ipython",
    "version": 3
   },
   "file_extension": ".py",
   "mimetype": "text/x-python",
   "name": "python",
   "nbconvert_exporter": "python",
   "pygments_lexer": "ipython3",
   "version": "3.10.8"
  }
 },
 "nbformat": 4,
 "nbformat_minor": 5
}
