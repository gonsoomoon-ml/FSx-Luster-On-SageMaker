{
 "cells": [
  {
   "cell_type": "markdown",
   "id": "70151e64",
   "metadata": {},
   "source": [
    "# 1.1 Amazon SageMaker Training 실습"
   ]
  },
  {
   "cell_type": "markdown",
   "id": "b2249bdb",
   "metadata": {
    "tags": []
   },
   "source": [
    "## 학습 작업의 실행 노트북 개요\n",
    "\n",
    "이 노트북은 SageMaker에서 Training Job을 통해서 모델 학습합니다.상세한 사항은 개발자 가이드를 참조 하세요. -->  [모델 학습](https://sagemaker.readthedocs.io/en/stable/overview.html#prepare-a-training-script)\n",
    "\n",
    "- 일반적으로 SageMaker Training은 아래와 같이 진행이 됩니다.\n",
    "    - [작업 실행 시 필요 라이브러리 import](#작업-실행-시-필요-라이브러리-import)\n",
    "    - [SageMaker 세션과 Role, 사용 버킷 정의](#SageMaker-세션과-Role,-사용-버킷-정의)\n",
    "    - [하이퍼파라미터 정의](#하이퍼파라미터-정의)\n",
    "    - [학습 실행 작업 정의](#학습-실행-작업-정의)\n",
    "        - 학습 코드 명\n",
    "        - 학습 코드 폴더 명\n",
    "        - 학습 코드가 사용한 Framework 종류, 버전 등\n",
    "        - 학습 인스턴스 타입과 개수\n",
    "        - SageMaker 세션\n",
    "        - 학습 작업 하이퍼파라미터 정의\n",
    "        - 학습 작업 산출물 관련 S3 버킷 설정 등\n",
    "    - [학습 데이터셋 지정](#학습-데이터셋-지정)\n",
    "        - 학습에 사용하는 데이터셋의 S3 URI 지정\n",
    "    - [학습 실행](#학습-실행)\n",
    "    - [데이터 세트 설명](#데이터-세트-설명)"
   ]
  },
  {
   "cell_type": "markdown",
   "id": "bb7739ae",
   "metadata": {},
   "source": [
    "### 작업 실행 시 필요 라이브러리 import"
   ]
  },
  {
   "cell_type": "code",
   "execution_count": 70,
   "id": "5296340a",
   "metadata": {
    "tags": []
   },
   "outputs": [],
   "source": [
    "import boto3\n",
    "import sagemaker"
   ]
  },
  {
   "cell_type": "markdown",
   "id": "3edc2244",
   "metadata": {},
   "source": [
    "### SageMaker 세션과 Role, 사용 버킷 정의"
   ]
  },
  {
   "cell_type": "code",
   "execution_count": 71,
   "id": "7551894e",
   "metadata": {
    "tags": []
   },
   "outputs": [
    {
     "name": "stderr",
     "output_type": "stream",
     "text": [
      "INFO:botocore.credentials:Found credentials from IAM Role: BaseNotebookInstanceEc2InstanceRole\n",
      "INFO:botocore.credentials:Found credentials from IAM Role: BaseNotebookInstanceEc2InstanceRole\n"
     ]
    }
   ],
   "source": [
    "sagemaker_session = sagemaker.session.Session()\n",
    "role = sagemaker.get_execution_role()"
   ]
  },
  {
   "cell_type": "code",
   "execution_count": 72,
   "id": "8f4a1511",
   "metadata": {
    "tags": []
   },
   "outputs": [],
   "source": [
    "bucket = sagemaker_session.default_bucket()\n",
    "code_location = f's3://{bucket}/xgboost/code'\n",
    "output_path = f's3://{bucket}/xgboost/output'"
   ]
  },
  {
   "cell_type": "markdown",
   "id": "6deeebb5",
   "metadata": {},
   "source": [
    "### 하이퍼파라미터 정의"
   ]
  },
  {
   "cell_type": "code",
   "execution_count": 73,
   "id": "837a9316",
   "metadata": {
    "tags": []
   },
   "outputs": [],
   "source": [
    "hyperparameters = {\n",
    "       \"scale_pos_weight\" : \"29\",    \n",
    "        \"max_depth\": \"3\",\n",
    "        \"eta\": \"0.2\",\n",
    "        \"objective\": \"binary:logistic\",\n",
    "        \"num_round\": \"100\",\n",
    "}"
   ]
  },
  {
   "cell_type": "markdown",
   "id": "111d3658",
   "metadata": {},
   "source": [
    "### 학습 실행 작업 정의"
   ]
  },
  {
   "cell_type": "code",
   "execution_count": 74,
   "id": "7f383326",
   "metadata": {
    "tags": []
   },
   "outputs": [],
   "source": [
    "instance_count = 1\n",
    "instance_type = \"ml.m5.large\"\n",
    "# instance_type = \"local\"\n",
    "# instance_type = \"local_gpu\"\n",
    "\n",
    "max_run = 1*60*60\n",
    "\n",
    "use_spot_instances = False\n",
    "if use_spot_instances:\n",
    "    max_wait = 1*60*60\n",
    "else:\n",
    "    max_wait = None"
   ]
  },
  {
   "cell_type": "code",
   "execution_count": 75,
   "id": "81c0b774-9be5-4e1c-a30e-f9ee3edaeeb3",
   "metadata": {
    "tags": []
   },
   "outputs": [
    {
     "name": "stderr",
     "output_type": "stream",
     "text": [
      "INFO:botocore.credentials:Found credentials from IAM Role: BaseNotebookInstanceEc2InstanceRole\n"
     ]
    }
   ],
   "source": [
    "if instance_type in ['local', 'local_gpu']:\n",
    "    from sagemaker.local import LocalSession\n",
    "    sagemaker_session = LocalSession()\n",
    "    sagemaker_session.config = {'local': {'local_code': True}}\n",
    "else:\n",
    "    sagemaker_session = sagemaker.session.Session()"
   ]
  },
  {
   "cell_type": "code",
   "execution_count": 76,
   "id": "4dcee8ce-f51e-44da-9eac-84f9d4212281",
   "metadata": {
    "tags": []
   },
   "outputs": [
    {
     "name": "stderr",
     "output_type": "stream",
     "text": [
      "INFO:sagemaker.image_uris:Ignoring unnecessary Python version: py3.\n",
      "INFO:sagemaker.image_uris:Ignoring unnecessary instance type: ml.m5.large.\n"
     ]
    }
   ],
   "source": [
    "from sagemaker.xgboost.estimator import XGBoost\n",
    "\n",
    "estimator = XGBoost(\n",
    "    entry_point=\"xgboost_starter_script.py\",\n",
    "    source_dir='src',\n",
    "    output_path=output_path,\n",
    "    code_location=code_location,\n",
    "    hyperparameters=hyperparameters,\n",
    "    role=role,\n",
    "    sagemaker_session=sagemaker_session,\n",
    "    instance_count=instance_count,\n",
    "    instance_type=instance_type,\n",
    "    framework_version=\"1.3-1\",\n",
    "    max_run=max_run,\n",
    "    use_spot_instances=use_spot_instances,  # spot instance 활용\n",
    "    keep_alive_period_in_seconds=1800,    \n",
    "    max_wait=max_wait,\n",
    ")"
   ]
  },
  {
   "cell_type": "markdown",
   "id": "1a78bf16",
   "metadata": {},
   "source": [
    "### 학습 데이터셋을 FSX 파일 시스템으로 카피 "
   ]
  },
  {
   "cell_type": "code",
   "execution_count": 77,
   "id": "8488a7c5-207a-47fa-a96d-7f2c0085981e",
   "metadata": {
    "tags": []
   },
   "outputs": [],
   "source": [
    "is_fsx_data = False\n",
    "is_delete_fsx_data = False\n",
    "local_data_path = \"../data/dataset/\"\n",
    "fsx_path = '/fsx/fraud/'\n",
    "\n",
    "import os\n",
    "\n",
    "def run_os_command(cmd):\n",
    "    return_value = os.system(cmd)\n",
    "    print(\"return_value: \\n\", return_value)\n",
    "    \n",
    "\n",
    "def prepare_fsx_data(is_fsx_data, local_data_path, fsx_path):\n",
    "    if is_fsx_data:\n",
    "        print(\"fsx_path: \", fsx_path)\n",
    "        cmd = f'sudo cp -r {local_data_path} {fsx_path}'\n",
    "        run_os_command(cmd)\n",
    "        cmd = f'cd {fsx_path} && pwd && ls -R'    \n",
    "        run_os_command(cmd)\n",
    "        inputs = f'file://{fsx_path}'\n",
    "        \n",
    "    return inputs\n",
    "\n",
    "if is_delete_fsx_data:    \n",
    "    cmd = f'cd {fsx_path} && sudo rm -rf dataset && ls -R'    \n",
    "    run_os_command(cmd)\n",
    "    \n"
   ]
  },
  {
   "cell_type": "code",
   "execution_count": 78,
   "id": "24ceb810-675c-49c3-8137-6b0c85ae9cae",
   "metadata": {
    "tags": []
   },
   "outputs": [
    {
     "name": "stdout",
     "output_type": "stream",
     "text": [
      "input for fsx_path:  s3://sagemaker-us-east-1-189546603447/xgboost/dataset\n"
     ]
    }
   ],
   "source": [
    "if instance_type in ['local', 'local_gpu']:\n",
    "    if is_fsx_data:\n",
    "        inputs = prepare_fsx_data(is_fsx_data, local_data_path, fsx_path)    \n",
    "    else:\n",
    "        from pathlib import Path\n",
    "        file_path = f'file://{Path.cwd()}'\n",
    "        inputs = file_path.split('lab_1_training')[0] + 'data/dataset/'\n",
    "else:\n",
    "    data_path=f's3://{bucket}/xgboost/dataset'\n",
    "    !aws s3 sync ../data/dataset/ $data_path    \n",
    "    inputs = data_path\n",
    "\n",
    "print(\"input for fsx_path: \", inputs)                "
   ]
  },
  {
   "cell_type": "markdown",
   "id": "61ba2857",
   "metadata": {
    "tags": []
   },
   "source": [
    "### 학습 실행"
   ]
  },
  {
   "cell_type": "code",
   "execution_count": 79,
   "id": "e5127e34",
   "metadata": {
    "tags": []
   },
   "outputs": [
    {
     "name": "stderr",
     "output_type": "stream",
     "text": [
      "INFO:sagemaker:Creating training-job with name: sagemaker-xgboost-2023-04-02-04-27-24-282\n"
     ]
    }
   ],
   "source": [
    "estimator.fit(inputs = {'inputdata': inputs},\n",
    "                  wait=False)"
   ]
  },
  {
   "cell_type": "code",
   "execution_count": null,
   "id": "274ab30b",
   "metadata": {
    "tags": []
   },
   "outputs": [
    {
     "name": "stdout",
     "output_type": "stream",
     "text": [
      "2023-04-02 04:27:24 Starting - Starting the training job...\n",
      "2023-04-02 04:27:41 Starting - Preparing the instances for training......\n",
      "2023-04-02 04:28:26 Downloading - Downloading input data...\n",
      "2023-04-02 04:29:06 Training - Downloading the training image...\n",
      "2023-04-02 04:29:41 Training - Training image download completed. Training in progress.\u001b[34m[2023-04-02 04:29:46.633 ip-10-0-183-118.ec2.internal:7 INFO utils.py:28] RULE_JOB_STOP_SIGNAL_FILENAME: None\u001b[0m\n",
      "\u001b[34m[2023-04-02 04:29:46.661 ip-10-0-183-118.ec2.internal:7 INFO profiler_config_parser.py:111] User has disabled profiler.\u001b[0m\n",
      "\u001b[34m[2023-04-02:04:29:46:INFO] Imported framework sagemaker_xgboost_container.training\u001b[0m\n",
      "\u001b[34m[2023-04-02:04:29:46:INFO] No GPUs detected (normal if no gpus installed)\u001b[0m\n",
      "\u001b[34m[2023-04-02:04:29:46:INFO] Invoking user training script.\u001b[0m\n",
      "\u001b[34m[2023-04-02:04:29:46:INFO] Module xgboost_starter_script does not provide a setup.py. \u001b[0m\n",
      "\u001b[34mGenerating setup.py\u001b[0m\n",
      "\u001b[34m[2023-04-02:04:29:46:INFO] Generating setup.cfg\u001b[0m\n",
      "\u001b[34m[2023-04-02:04:29:46:INFO] Generating MANIFEST.in\u001b[0m\n",
      "\u001b[34m[2023-04-02:04:29:46:INFO] Installing module with the following command:\u001b[0m\n",
      "\u001b[34m/miniconda3/bin/python3 -m pip install . \u001b[0m\n",
      "\u001b[34mProcessing /opt/ml/code\n",
      "  Preparing metadata (setup.py): started\u001b[0m\n",
      "\u001b[34m  Preparing metadata (setup.py): finished with status 'done'\u001b[0m\n",
      "\u001b[34mBuilding wheels for collected packages: xgboost-starter-script\n",
      "  Building wheel for xgboost-starter-script (setup.py): started\n",
      "  Building wheel for xgboost-starter-script (setup.py): finished with status 'done'\n",
      "  Created wheel for xgboost-starter-script: filename=xgboost_starter_script-1.0.0-py2.py3-none-any.whl size=16651 sha256=b5c7ee9770c7669940e37ca562e4b6fae7f82736fcad45e674d82d4d93130278\n",
      "  Stored in directory: /home/model-server/tmp/pip-ephem-wheel-cache-p4r_m8n6/wheels/3e/0f/51/2f1df833dd0412c1bc2f5ee56baac195b5be563353d111dca6\u001b[0m\n",
      "\u001b[34mSuccessfully built xgboost-starter-script\u001b[0m\n",
      "\u001b[34mInstalling collected packages: xgboost-starter-script\u001b[0m\n",
      "\u001b[34mSuccessfully installed xgboost-starter-script-1.0.0\u001b[0m\n",
      "\u001b[34mWARNING: Running pip as the 'root' user can result in broken permissions and conflicting behaviour with the system package manager. It is recommended to use a virtual environment instead: https://pip.pypa.io/warnings/venv\u001b[0m\n",
      "\u001b[34m[2023-04-02:04:29:48:INFO] No GPUs detected (normal if no gpus installed)\u001b[0m\n",
      "\u001b[34m[2023-04-02:04:29:48:INFO] Invoking user script\u001b[0m\n",
      "\u001b[34mTraining Env:\u001b[0m\n",
      "\u001b[34m{\n",
      "    \"additional_framework_parameters\": {},\n",
      "    \"channel_input_dirs\": {\n",
      "        \"inputdata\": \"/opt/ml/input/data/inputdata\"\n",
      "    },\n",
      "    \"current_host\": \"algo-1\",\n",
      "    \"framework_module\": \"sagemaker_xgboost_container.training:main\",\n",
      "    \"hosts\": [\n",
      "        \"algo-1\"\n",
      "    ],\n",
      "    \"hyperparameters\": {\n",
      "        \"eta\": \"0.2\",\n",
      "        \"max_depth\": \"3\",\n",
      "        \"num_round\": \"100\",\n",
      "        \"objective\": \"binary:logistic\",\n",
      "        \"scale_pos_weight\": \"29\"\n",
      "    },\n",
      "    \"input_config_dir\": \"/opt/ml/input/config\",\n",
      "    \"input_data_config\": {\n",
      "        \"inputdata\": {\n",
      "            \"TrainingInputMode\": \"File\",\n",
      "            \"S3DistributionType\": \"FullyReplicated\",\n",
      "            \"RecordWrapperType\": \"None\"\n",
      "        }\n",
      "    },\n",
      "    \"input_dir\": \"/opt/ml/input\",\n",
      "    \"is_master\": true,\n",
      "    \"job_name\": \"sagemaker-xgboost-2023-04-02-04-27-24-282\",\n",
      "    \"log_level\": 20,\n",
      "    \"master_hostname\": \"algo-1\",\n",
      "    \"model_dir\": \"/opt/ml/model\",\n",
      "    \"module_dir\": \"s3://sagemaker-us-east-1-189546603447/xgboost/code/sagemaker-xgboost-2023-04-02-04-27-24-282/source/sourcedir.tar.gz\",\n",
      "    \"module_name\": \"xgboost_starter_script\",\n",
      "    \"network_interface_name\": \"eth0\",\n",
      "    \"num_cpus\": 2,\n",
      "    \"num_gpus\": 0,\n",
      "    \"output_data_dir\": \"/opt/ml/output/data\",\n",
      "    \"output_dir\": \"/opt/ml/output\",\n",
      "    \"output_intermediate_dir\": \"/opt/ml/output/intermediate\",\n",
      "    \"resource_config\": {\n",
      "        \"current_host\": \"algo-1\",\n",
      "        \"current_instance_type\": \"ml.m5.large\",\n",
      "        \"current_group_name\": \"homogeneousCluster\",\n",
      "        \"hosts\": [\n",
      "            \"algo-1\"\n",
      "        ],\n",
      "        \"instance_groups\": [\n",
      "            {\n",
      "                \"instance_group_name\": \"homogeneousCluster\",\n",
      "                \"instance_type\": \"ml.m5.large\",\n",
      "                \"hosts\": [\n",
      "                    \"algo-1\"\n",
      "                ]\n",
      "            }\n",
      "        ],\n",
      "        \"network_interface_name\": \"eth0\"\n",
      "    },\n",
      "    \"user_entry_point\": \"xgboost_starter_script.py\"\u001b[0m\n",
      "\u001b[34m}\u001b[0m\n",
      "\u001b[34mEnvironment variables:\u001b[0m\n",
      "\u001b[34mSM_HOSTS=[\"algo-1\"]\u001b[0m\n",
      "\u001b[34mSM_NETWORK_INTERFACE_NAME=eth0\u001b[0m\n",
      "\u001b[34mSM_HPS={\"eta\":\"0.2\",\"max_depth\":\"3\",\"num_round\":\"100\",\"objective\":\"binary:logistic\",\"scale_pos_weight\":\"29\"}\u001b[0m\n",
      "\u001b[34mSM_USER_ENTRY_POINT=xgboost_starter_script.py\u001b[0m\n",
      "\u001b[34mSM_FRAMEWORK_PARAMS={}\u001b[0m\n",
      "\u001b[34mSM_RESOURCE_CONFIG={\"current_group_name\":\"homogeneousCluster\",\"current_host\":\"algo-1\",\"current_instance_type\":\"ml.m5.large\",\"hosts\":[\"algo-1\"],\"instance_groups\":[{\"hosts\":[\"algo-1\"],\"instance_group_name\":\"homogeneousCluster\",\"instance_type\":\"ml.m5.large\"}],\"network_interface_name\":\"eth0\"}\u001b[0m\n",
      "\u001b[34mSM_INPUT_DATA_CONFIG={\"inputdata\":{\"RecordWrapperType\":\"None\",\"S3DistributionType\":\"FullyReplicated\",\"TrainingInputMode\":\"File\"}}\u001b[0m\n",
      "\u001b[34mSM_OUTPUT_DATA_DIR=/opt/ml/output/data\u001b[0m\n",
      "\u001b[34mSM_CHANNELS=[\"inputdata\"]\u001b[0m\n",
      "\u001b[34mSM_CURRENT_HOST=algo-1\u001b[0m\n",
      "\u001b[34mSM_MODULE_NAME=xgboost_starter_script\u001b[0m\n",
      "\u001b[34mSM_LOG_LEVEL=20\u001b[0m\n",
      "\u001b[34mSM_FRAMEWORK_MODULE=sagemaker_xgboost_container.training:main\u001b[0m\n",
      "\u001b[34mSM_INPUT_DIR=/opt/ml/input\u001b[0m\n",
      "\u001b[34mSM_INPUT_CONFIG_DIR=/opt/ml/input/config\u001b[0m\n",
      "\u001b[34mSM_OUTPUT_DIR=/opt/ml/output\u001b[0m\n",
      "\u001b[34mSM_NUM_CPUS=2\u001b[0m\n",
      "\u001b[34mSM_NUM_GPUS=0\u001b[0m\n",
      "\u001b[34mSM_MODEL_DIR=/opt/ml/model\u001b[0m\n",
      "\u001b[34mSM_MODULE_DIR=s3://sagemaker-us-east-1-189546603447/xgboost/code/sagemaker-xgboost-2023-04-02-04-27-24-282/source/sourcedir.tar.gz\u001b[0m\n",
      "\u001b[34mSM_TRAINING_ENV={\"additional_framework_parameters\":{},\"channel_input_dirs\":{\"inputdata\":\"/opt/ml/input/data/inputdata\"},\"current_host\":\"algo-1\",\"framework_module\":\"sagemaker_xgboost_container.training:main\",\"hosts\":[\"algo-1\"],\"hyperparameters\":{\"eta\":\"0.2\",\"max_depth\":\"3\",\"num_round\":\"100\",\"objective\":\"binary:logistic\",\"scale_pos_weight\":\"29\"},\"input_config_dir\":\"/opt/ml/input/config\",\"input_data_config\":{\"inputdata\":{\"RecordWrapperType\":\"None\",\"S3DistributionType\":\"FullyReplicated\",\"TrainingInputMode\":\"File\"}},\"input_dir\":\"/opt/ml/input\",\"is_master\":true,\"job_name\":\"sagemaker-xgboost-2023-04-02-04-27-24-282\",\"log_level\":20,\"master_hostname\":\"algo-1\",\"model_dir\":\"/opt/ml/model\",\"module_dir\":\"s3://sagemaker-us-east-1-189546603447/xgboost/code/sagemaker-xgboost-2023-04-02-04-27-24-282/source/sourcedir.tar.gz\",\"module_name\":\"xgboost_starter_script\",\"network_interface_name\":\"eth0\",\"num_cpus\":2,\"num_gpus\":0,\"output_data_dir\":\"/opt/ml/output/data\",\"output_dir\":\"/opt/ml/output\",\"output_intermediate_dir\":\"/opt/ml/output/intermediate\",\"resource_config\":{\"current_group_name\":\"homogeneousCluster\",\"current_host\":\"algo-1\",\"current_instance_type\":\"ml.m5.large\",\"hosts\":[\"algo-1\"],\"instance_groups\":[{\"hosts\":[\"algo-1\"],\"instance_group_name\":\"homogeneousCluster\",\"instance_type\":\"ml.m5.large\"}],\"network_interface_name\":\"eth0\"},\"user_entry_point\":\"xgboost_starter_script.py\"}\u001b[0m\n",
      "\u001b[34mSM_USER_ARGS=[\"--eta\",\"0.2\",\"--max_depth\",\"3\",\"--num_round\",\"100\",\"--objective\",\"binary:logistic\",\"--scale_pos_weight\",\"29\"]\u001b[0m\n",
      "\u001b[34mSM_OUTPUT_INTERMEDIATE_DIR=/opt/ml/output/intermediate\u001b[0m\n",
      "\u001b[34mSM_CHANNEL_INPUTDATA=/opt/ml/input/data/inputdata\u001b[0m\n",
      "\u001b[34mSM_HP_ETA=0.2\u001b[0m\n",
      "\u001b[34mSM_HP_MAX_DEPTH=3\u001b[0m\n",
      "\u001b[34mSM_HP_NUM_ROUND=100\u001b[0m\n",
      "\u001b[34mSM_HP_OBJECTIVE=binary:logistic\u001b[0m\n",
      "\u001b[34mSM_HP_SCALE_POS_WEIGHT=29\u001b[0m\n",
      "\u001b[34mPYTHONPATH=/miniconda3/bin:/:/miniconda3/lib/python/site-packages/xgboost/dmlc-core/tracker:/miniconda3/lib/python37.zip:/miniconda3/lib/python3.7:/miniconda3/lib/python3.7/lib-dynload:/miniconda3/lib/python3.7/site-packages\u001b[0m\n",
      "\u001b[34mInvoking script with the following command:\u001b[0m\n",
      "\u001b[34m/miniconda3/bin/python3 -m xgboost_starter_script --eta 0.2 --max_depth 3 --num_round 100 --objective binary:logistic --scale_pos_weight 29\u001b[0m\n",
      "\u001b[34mtrain data path: \n",
      " /opt/ml/input/data/inputdata/train.csv\u001b[0m\n",
      "\u001b[34mcv_results:      train-auc-mean  train-auc-std  test-auc-mean  test-auc-std\u001b[0m\n",
      "\u001b[34m0         0.819224       0.005816       0.769926      0.047341\u001b[0m\n",
      "\u001b[34m1         0.842821       0.012217       0.806518      0.021315\u001b[0m\n",
      "\u001b[34m2         0.854213       0.005705       0.806512      0.021542\u001b[0m\n",
      "\u001b[34m3         0.861384       0.008274       0.812600      0.030358\u001b[0m\n",
      "\u001b[34m4         0.873625       0.009501       0.814151      0.032305\u001b[0m\n",
      "\u001b[34m5         0.881067       0.009787       0.813072      0.027425\u001b[0m\n",
      "\u001b[34m6         0.886745       0.009047       0.810738      0.025871\u001b[0m\n",
      "\u001b[34m7         0.895144       0.009728       0.816828      0.023247\u001b[0m\n",
      "\u001b[34m8         0.898417       0.008864       0.817527      0.025424\u001b[0m\n",
      "\u001b[34m9         0.903438       0.010093       0.818247      0.024297\u001b[0m\n",
      "\u001b[34m10        0.909567       0.013376       0.818719      0.021123\u001b[0m\n",
      "\u001b[34m11        0.913054       0.013701       0.817377      0.019645\u001b[0m\n",
      "\u001b[34m12        0.918236       0.012743       0.820624      0.020702\u001b[0m\n",
      "\u001b[34m13        0.921825       0.012667       0.820398      0.020053\u001b[0m\n",
      "\u001b[34m14        0.926449       0.009542       0.818657      0.017779\u001b[0m\n",
      "\u001b[34m15        0.930879       0.009050       0.821708      0.018292\u001b[0m\n",
      "\u001b[34m16        0.935445       0.010258       0.821715      0.020194\u001b[0m\n",
      "\u001b[34m17        0.940519       0.006538       0.821841      0.020128\u001b[0m\n",
      "\u001b[34m[0]#011train-auc:0.9405190000000001\u001b[0m\n",
      "\u001b[34m[1]#011validation-auc:0.8218406\u001b[0m\n",
      "\u001b[34m[04:29:51] WARNING: ../src/learner.cc:1061: Starting in XGBoost 1.3.0, the default evaluation metric used with the objective 'binary:logistic' was changed from 'error' to 'logloss'. Explicitly set eval_metric if you'd like to restore the old behavior.\u001b[0m\n",
      "\n",
      "2023-04-02 04:30:15 Uploading - Uploading generated training model\n",
      "2023-04-02 04:30:15 Completed - Resource retained for reuse\n"
     ]
    }
   ],
   "source": [
    "%%time \n",
    "\n",
    "estimator.logs()"
   ]
  },
  {
   "cell_type": "markdown",
   "id": "4ac8b2d0",
   "metadata": {},
   "source": [
    "### Second Training Job using Warm Pool"
   ]
  },
  {
   "cell_type": "code",
   "execution_count": null,
   "id": "aea5ea9d-de1f-4bf4-beed-0231fd32ad19",
   "metadata": {
    "tags": []
   },
   "outputs": [],
   "source": [
    "hyperparameters = {\n",
    "       \"scale_pos_weight\" : \"29\",    \n",
    "#        \"max_depth\": \"3\",\n",
    "        \"max_depth\": \"5\",    \n",
    "        \"eta\": \"0.2\",\n",
    "        \"objective\": \"binary:logistic\",\n",
    "        \"num_round\": \"100\",    \n",
    "}"
   ]
  },
  {
   "cell_type": "code",
   "execution_count": null,
   "id": "33b5a5ff-2381-439b-ba72-32722e0cb22e",
   "metadata": {
    "tags": []
   },
   "outputs": [],
   "source": [
    "from sagemaker.xgboost.estimator import XGBoost\n",
    "\n",
    "estimator = XGBoost(\n",
    "    entry_point=\"xgboost_starter_script.py\",\n",
    "    source_dir='src',\n",
    "    output_path=output_path,\n",
    "    code_location=code_location,\n",
    "    hyperparameters=hyperparameters,\n",
    "    role=role,\n",
    "    sagemaker_session=sagemaker_session,\n",
    "    instance_count=instance_count,\n",
    "    instance_type=instance_type,\n",
    "    framework_version=\"1.3-1\",\n",
    "    max_run=max_run,\n",
    "    use_spot_instances=use_spot_instances,  # spot instance 활용\n",
    "    keep_alive_period_in_seconds=1800,    \n",
    "    max_wait=max_wait,\n",
    ")"
   ]
  },
  {
   "cell_type": "code",
   "execution_count": null,
   "id": "2bff14f8-2b5b-4d25-a3d2-548bb47b8e34",
   "metadata": {
    "tags": []
   },
   "outputs": [],
   "source": [
    "estimator.fit(inputs = {'inputdata': inputs},\n",
    "                  wait=False)"
   ]
  },
  {
   "cell_type": "code",
   "execution_count": null,
   "id": "b315a5f2-ce82-47b4-8f23-a8c5c6f1efe6",
   "metadata": {
    "tags": []
   },
   "outputs": [],
   "source": [
    "%%time \n",
    "\n",
    "estimator.logs()"
   ]
  },
  {
   "cell_type": "markdown",
   "id": "715cfadc-2c84-45eb-819d-445bedd16981",
   "metadata": {},
   "source": [
    "### 데이터 세트 설명\n",
    "- 데이터 세트는 블로그 [Architect and build the full machine learning lifecycle with AWS: An end-to-end Amazon SageMaker demo](https://aws.amazon.com/blogs/machine-learning/architect-and-build-the-full-machine-learning-lifecycle-with-amazon-sagemaker/) 에서 사용한 데이터를 사용합니다. 블로그에서는 데이터 세트에 대해서 이렇게 설명 합니다.\n",
    "- \"자동차 보험 청구 사기를 탐지를 위해서 블로그 저자가 데이터를 합성해서 만든 고객과 클레임의 데이터 세트를 사용합니다.\""
   ]
  },
  {
   "cell_type": "code",
   "execution_count": null,
   "id": "edf4a217-951c-4592-8186-a54867b59134",
   "metadata": {
    "tags": []
   },
   "outputs": [],
   "source": [
    "import pandas as pd"
   ]
  },
  {
   "cell_type": "code",
   "execution_count": null,
   "id": "5afd16b1-4258-4bc9-8287-8d11d315b1c4",
   "metadata": {
    "tags": []
   },
   "outputs": [],
   "source": [
    "train_prep_df = pd.read_csv('../data/dataset/train.csv')\n",
    "train_prep_df.groupby('fraud').sample(n=5)"
   ]
  },
  {
   "cell_type": "code",
   "execution_count": null,
   "id": "59102dfc-1b29-42d6-a6ea-33e48da88288",
   "metadata": {
    "tags": []
   },
   "outputs": [],
   "source": [
    "train_prep_df.groupby('fraud').size()"
   ]
  },
  {
   "cell_type": "markdown",
   "id": "adc21444-b4f8-44d6-9e79-35b41b7e8fe4",
   "metadata": {},
   "source": [
    "#### 데이터 컬럼 설명\n",
    "- fraud: 보험 청구의 사기 여부 입니다. 1 이면 사기, 0 이면 정상 청구 입니다.\n",
    "- vehicle_claim: 자동차에 대한 보험 청구액. 값으로서, $1000, $17,638 등이 있습니다.\n",
    "- total_claim_amount: 전체 보험 청구액 입니다. $21,400, $10,000 등이 있습니다.    \n",
    "- customer_age: 고객의 나이를 의미 합니다.\n",
    "- months_as_customer: 고객으로서의 가입 기간을 의미합니다. 단위는 월로서 11, 30, 31 등의 값이 존재 합니다.\n",
    "- num_claims_past_year: 작년의 보험 청구 수를 의미 합니다. 0, 1, 2, 3, 4, 5, 6 의 값이 존재 합니다.\n",
    "- num_insurers_past_5_years: 과거 5년 동안의 보험 가입 회사 수를 의미 합니다. 1, 2, 3, 4, 5 의 값이 존재 합니다.\n",
    "- policy_deductable: 보험의 최소 자기 부담금 입니다. $750, $800 등이 있습니다.    \n",
    "- policy_annual_premium: 보험의 특약 가입에 대한 금액 입니다. $2000, $3000 등이 있습니다.\n",
    "- customer_zip: 고객의 집 주소 우편 번호를 의미합니다.\n",
    "- auto_year: 자동차의 년식을 의미 합니다. 2020, 2019 등이 있습니다.\n",
    "- num_vehicles_involved: 몇 대의 자동차가 사고에 연관 되었는지 입니다. 1, 2, 3, 4, 5, 6 의 값이 있습니다.\n",
    "- num_injuries: 몇 명이 상해를 입었는지를 기술합니다. 0, 1, 2, 3, 4, 의 값이 있습니다.\n",
    "- num_witnesses: 몇 명의 목격자가 있었는지를 기술합니다. 0, 1, 2, 3, 4, 5 의 값이 있습니다.\n",
    "- injury_claim: 상해에 대한 보험 청구액. \\$5,500, \\$70,700, \\$100,700 등이 있습니다.    \n",
    "- incident_month: 사고가 발생한 월을 의미합니다. 1~12 값이 존재 합니다.\n",
    "- incident_day: 사고가 발생한 일자를 의미합니다. 1~31 값이 존재 합니다.\n",
    "- incident_dow: 사고가 발생한 요일을 의미합니다. 0~6 값이 존재 합니다.\n",
    "- incident_hour: 사고가 발생한 시간을 의미합니다. 0~23 값이 존재 합니다.\n",
    "- policy_state: 보험 계약을 한 미국 주(State)를 의미 합니다. CA, WA, AZ, OR, NV, ID 가 존재 합니다.    \n",
    "- policy_liability: 보험 청구의 한도를 의미 합니다. 예를 들어서 25/50 은  사람 당 상해 한도 $25,000, 사고 당 상해 한도가 $50,000 을  의미합니다. 25/50, 15/30, 30/60, 100/200 의 값이 존재 합니다. \n",
    "- customer_gender: 고객의 성별을 의미 합니다. Male, Female, Unkown, Other가 존재 합니다.\n",
    "- customer_education: 고객의 최종 학력을 의미합니다. Bachelor, High School, Advanced Degree, Associate, Below High School 이 존재 합니다.\n",
    "- driver_relationship: 보험 계약자와 운전자와의 관계 입니다. Self, Spouse, Child, Other 값이 존재 합니다.\n",
    "- incident_type: 사고의 종류를 기술합니다. Collision, Break-in, Theft 값이 존재 합니다.\n",
    "- collision_type: 충돌 타입을 기술합니다. Front, Rear, Side, missing 값이 존재 합니다.\n",
    "- incident_severity: 사고의 손실 정도 입니다. Minor, Major, Totaled 값이 존재 합니다.\n",
    "- authorities_contacted: 어떤 관련 기관에 연락을 했는지 입니다. Police, Ambuylance, Fire, None 값이 존재 합니다.\n",
    "- police_report_available: 경찰 보고서가 존재하는지를 기술합니다. Yes, No 의 값이 있습니다."
   ]
  },
  {
   "cell_type": "code",
   "execution_count": null,
   "id": "a7b87ec7-8639-4b10-8cb5-e736934b00bc",
   "metadata": {},
   "outputs": [],
   "source": []
  }
 ],
 "metadata": {
  "kernelspec": {
   "display_name": "conda_python3",
   "language": "python",
   "name": "conda_python3"
  },
  "language_info": {
   "codemirror_mode": {
    "name": "ipython",
    "version": 3
   },
   "file_extension": ".py",
   "mimetype": "text/x-python",
   "name": "python",
   "nbconvert_exporter": "python",
   "pygments_lexer": "ipython3",
   "version": "3.10.8"
  }
 },
 "nbformat": 4,
 "nbformat_minor": 5
}
